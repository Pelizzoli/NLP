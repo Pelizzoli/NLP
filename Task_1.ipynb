{
  "nbformat": 4,
  "nbformat_minor": 0,
  "metadata": {
    "colab": {
      "name": "Task 1.ipynb",
      "provenance": [],
      "collapsed_sections": [],
      "mount_file_id": "1j3L7WrrWgLYU5sG0dTNdLZZ7NQQ86q0n",
      "authorship_tag": "ABX9TyPz3nwCL2NfT4DSjJs98oiC",
      "include_colab_link": true
    },
    "kernelspec": {
      "name": "python3",
      "display_name": "Python 3"
    },
    "language_info": {
      "name": "python"
    }
  },
  "cells": [
    {
      "cell_type": "markdown",
      "metadata": {
        "id": "view-in-github",
        "colab_type": "text"
      },
      "source": [
        "<a href=\"https://colab.research.google.com/github/Pelizzoli/NLP/blob/main/Task_1.ipynb\" target=\"_parent\"><img src=\"https://colab.research.google.com/assets/colab-badge.svg\" alt=\"Open In Colab\"/></a>"
      ]
    },
    {
      "cell_type": "code",
      "metadata": {
        "id": "WysdYPljkj2c",
        "colab": {
          "base_uri": "https://localhost:8080/"
        },
        "outputId": "2a1e6310-c30f-4d9c-ca56-9e5786c807f1"
      },
      "source": [
        "import numpy as np\n",
        "import tensorflow as tf\n",
        "from tensorflow import keras\n",
        "import pandas as pd\n",
        "import numpy as np\n",
        "import nltk\n",
        "import matplotlib.pyplot as plt\n",
        "from nltk.corpus import stopwords\n",
        "from nltk.stem.wordnet import WordNetLemmatizer\n",
        "from sklearn.preprocessing import LabelEncoder\n",
        "from tensorflow.keras.layers.experimental.preprocessing import TextVectorization\n",
        "from sklearn.pipeline import Pipeline\n",
        "from sklearn.feature_extraction.text import CountVectorizer\n",
        "from sklearn.feature_extraction.text import TfidfTransformer, TfidfVectorizer\n",
        "from sklearn.linear_model import SGDClassifier, LogisticRegression\n",
        "from nltk.corpus import wordnet as wn\n",
        "\n",
        "import torch\n",
        "import torch.nn as nn\n",
        "import torch.nn.functional as F\n",
        "import torch.optim as optim\n",
        "\n",
        "torch.manual_seed(1)"
      ],
      "execution_count": null,
      "outputs": [
        {
          "output_type": "execute_result",
          "data": {
            "text/plain": [
              "<torch._C.Generator at 0x7f78d4989f90>"
            ]
          },
          "metadata": {
            "tags": []
          },
          "execution_count": 4
        }
      ]
    },
    {
      "cell_type": "code",
      "metadata": {
        "colab": {
          "base_uri": "https://localhost:8080/"
        },
        "id": "JgywZwJqpjnv",
        "outputId": "ef527913-ab0a-4590-fa28-6fd10f150b53"
      },
      "source": [
        "nltk.download('punkt')\n",
        "nltk.download('averaged_perceptron_tagger')\n",
        "nltk.download('wordnet')\n",
        "nltk.download('stopwords')\n",
        "nltk.download('wordnet')"
      ],
      "execution_count": null,
      "outputs": [
        {
          "output_type": "stream",
          "text": [
            "[nltk_data] Downloading package punkt to /root/nltk_data...\n",
            "[nltk_data]   Package punkt is already up-to-date!\n",
            "[nltk_data] Downloading package averaged_perceptron_tagger to\n",
            "[nltk_data]     /root/nltk_data...\n",
            "[nltk_data]   Package averaged_perceptron_tagger is already up-to-\n",
            "[nltk_data]       date!\n",
            "[nltk_data] Downloading package wordnet to /root/nltk_data...\n",
            "[nltk_data]   Package wordnet is already up-to-date!\n",
            "[nltk_data] Downloading package stopwords to /root/nltk_data...\n",
            "[nltk_data]   Package stopwords is already up-to-date!\n",
            "[nltk_data] Downloading package wordnet to /root/nltk_data...\n",
            "[nltk_data]   Package wordnet is already up-to-date!\n"
          ],
          "name": "stdout"
        },
        {
          "output_type": "execute_result",
          "data": {
            "text/plain": [
              "True"
            ]
          },
          "metadata": {
            "tags": []
          },
          "execution_count": 70
        }
      ]
    },
    {
      "cell_type": "markdown",
      "metadata": {
        "id": "C1HO3B2BqbvK"
      },
      "source": [
        "Get Stop words"
      ]
    },
    {
      "cell_type": "code",
      "metadata": {
        "id": "HAwDUPCxpjrY"
      },
      "source": [
        "stop = set(stopwords.words('english'))"
      ],
      "execution_count": null,
      "outputs": []
    },
    {
      "cell_type": "code",
      "metadata": {
        "colab": {
          "base_uri": "https://localhost:8080/",
          "height": 402
        },
        "id": "PKB-MNTWpjuc",
        "outputId": "8c41bc03-eb5b-4192-89e4-30bafa329e7e"
      },
      "source": [
        "train = pd.read_csv('/content/drive/MyDrive/NLP Data Sets/train.csv')\n",
        "dev = pd.read_csv('/content/drive/MyDrive/NLP Data Sets/dev.csv')\n",
        "dev"
      ],
      "execution_count": null,
      "outputs": [
        {
          "output_type": "execute_result",
          "data": {
            "text/html": [
              "<div>\n",
              "<style scoped>\n",
              "    .dataframe tbody tr th:only-of-type {\n",
              "        vertical-align: middle;\n",
              "    }\n",
              "\n",
              "    .dataframe tbody tr th {\n",
              "        vertical-align: top;\n",
              "    }\n",
              "\n",
              "    .dataframe thead th {\n",
              "        text-align: right;\n",
              "    }\n",
              "</style>\n",
              "<table border=\"1\" class=\"dataframe\">\n",
              "  <thead>\n",
              "    <tr style=\"text-align: right;\">\n",
              "      <th></th>\n",
              "      <th>tweet_id</th>\n",
              "      <th>text</th>\n",
              "      <th>airline_sentiment</th>\n",
              "    </tr>\n",
              "  </thead>\n",
              "  <tbody>\n",
              "    <tr>\n",
              "      <th>0</th>\n",
              "      <td>5.681070e+17</td>\n",
              "      <td>@southwestair Great job celebrating #MardiGras...</td>\n",
              "      <td>positive</td>\n",
              "    </tr>\n",
              "    <tr>\n",
              "      <th>1</th>\n",
              "      <td>5.682160e+17</td>\n",
              "      <td>@southwestair thanks for taking it up a notch!...</td>\n",
              "      <td>positive</td>\n",
              "    </tr>\n",
              "    <tr>\n",
              "      <th>2</th>\n",
              "      <td>5.678420e+17</td>\n",
              "      <td>@USAirways Being put back on hold for what has...</td>\n",
              "      <td>negative</td>\n",
              "    </tr>\n",
              "    <tr>\n",
              "      <th>3</th>\n",
              "      <td>5.688350e+17</td>\n",
              "      <td>@united Thank you for your offer! All sorted o...</td>\n",
              "      <td>positive</td>\n",
              "    </tr>\n",
              "    <tr>\n",
              "      <th>4</th>\n",
              "      <td>5.695910e+17</td>\n",
              "      <td>@JetBlue wondering if it's possible for my col...</td>\n",
              "      <td>neutral</td>\n",
              "    </tr>\n",
              "    <tr>\n",
              "      <th>...</th>\n",
              "      <td>...</td>\n",
              "      <td>...</td>\n",
              "      <td>...</td>\n",
              "    </tr>\n",
              "    <tr>\n",
              "      <th>1313</th>\n",
              "      <td>5.700610e+17</td>\n",
              "      <td>@AmericanAir \"sorry you were disappointed\" #ou...</td>\n",
              "      <td>negative</td>\n",
              "    </tr>\n",
              "    <tr>\n",
              "      <th>1314</th>\n",
              "      <td>5.701010e+17</td>\n",
              "      <td>@AmericanAir were stuck on a plane in Dallas t...</td>\n",
              "      <td>negative</td>\n",
              "    </tr>\n",
              "    <tr>\n",
              "      <th>1315</th>\n",
              "      <td>5.685730e+17</td>\n",
              "      <td>@united Lost my wallet on flight 1007 yesterda...</td>\n",
              "      <td>negative</td>\n",
              "    </tr>\n",
              "    <tr>\n",
              "      <th>1316</th>\n",
              "      <td>5.677480e+17</td>\n",
              "      <td>@USAirways Travelling from pwm to atl on Sunda...</td>\n",
              "      <td>negative</td>\n",
              "    </tr>\n",
              "    <tr>\n",
              "      <th>1317</th>\n",
              "      <td>5.700110e+17</td>\n",
              "      <td>@SouthwestAir thank you :)</td>\n",
              "      <td>positive</td>\n",
              "    </tr>\n",
              "  </tbody>\n",
              "</table>\n",
              "<p>1318 rows × 3 columns</p>\n",
              "</div>"
            ],
            "text/plain": [
              "          tweet_id  ... airline_sentiment\n",
              "0     5.681070e+17  ...          positive\n",
              "1     5.682160e+17  ...          positive\n",
              "2     5.678420e+17  ...          negative\n",
              "3     5.688350e+17  ...          positive\n",
              "4     5.695910e+17  ...           neutral\n",
              "...            ...  ...               ...\n",
              "1313  5.700610e+17  ...          negative\n",
              "1314  5.701010e+17  ...          negative\n",
              "1315  5.685730e+17  ...          negative\n",
              "1316  5.677480e+17  ...          negative\n",
              "1317  5.700110e+17  ...          positive\n",
              "\n",
              "[1318 rows x 3 columns]"
            ]
          },
          "metadata": {
            "tags": []
          },
          "execution_count": 6
        }
      ]
    },
    {
      "cell_type": "code",
      "metadata": {
        "colab": {
          "base_uri": "https://localhost:8080/"
        },
        "id": "hW6K5wL0eRcd",
        "outputId": "75b7cc21-7bfe-482b-ec76-7f0b237269d8"
      },
      "source": [
        "x_dev = dev['text']\n",
        "y_dev = dev['airline_sentiment']\n",
        "x_train = train['text']\n",
        "y_train = train['airline_sentiment']\n",
        "x_dev"
      ],
      "execution_count": null,
      "outputs": [
        {
          "output_type": "execute_result",
          "data": {
            "text/plain": [
              "0       @southwestair Great job celebrating #MardiGras...\n",
              "1       @southwestair thanks for taking it up a notch!...\n",
              "2       @USAirways Being put back on hold for what has...\n",
              "3       @united Thank you for your offer! All sorted o...\n",
              "4       @JetBlue wondering if it's possible for my col...\n",
              "                              ...                        \n",
              "1313    @AmericanAir \"sorry you were disappointed\" #ou...\n",
              "1314    @AmericanAir were stuck on a plane in Dallas t...\n",
              "1315    @united Lost my wallet on flight 1007 yesterda...\n",
              "1316    @USAirways Travelling from pwm to atl on Sunda...\n",
              "1317                           @SouthwestAir thank you :)\n",
              "Name: text, Length: 1318, dtype: object"
            ]
          },
          "metadata": {
            "tags": []
          },
          "execution_count": 7
        }
      ]
    },
    {
      "cell_type": "code",
      "metadata": {
        "id": "boImfjm_eRia",
        "colab": {
          "base_uri": "https://localhost:8080/"
        },
        "outputId": "a671f1f5-05f6-4d1d-d06e-899e9b037082"
      },
      "source": [
        "dev['airline_sentiment'].value_counts()"
      ],
      "execution_count": null,
      "outputs": [
        {
          "output_type": "execute_result",
          "data": {
            "text/plain": [
              "negative    826\n",
              "neutral     279\n",
              "positive    213\n",
              "Name: airline_sentiment, dtype: int64"
            ]
          },
          "metadata": {
            "tags": []
          },
          "execution_count": 8
        }
      ]
    },
    {
      "cell_type": "code",
      "metadata": {
        "id": "ES_suLz5sNkx"
      },
      "source": [
        "target_names = ['negative', 'neutral', 'positive']"
      ],
      "execution_count": null,
      "outputs": []
    },
    {
      "cell_type": "code",
      "metadata": {
        "colab": {
          "base_uri": "https://localhost:8080/"
        },
        "id": "scuOKtK_pjxa",
        "outputId": "35a2c970-9d8e-4a12-bb78-a14d05d719df"
      },
      "source": [
        "dev['text']"
      ],
      "execution_count": null,
      "outputs": [
        {
          "output_type": "execute_result",
          "data": {
            "text/plain": [
              "0       @southwestair Great job celebrating #MardiGras...\n",
              "1       @southwestair thanks for taking it up a notch!...\n",
              "2       @USAirways Being put back on hold for what has...\n",
              "3       @united Thank you for your offer! All sorted o...\n",
              "4       @JetBlue wondering if it's possible for my col...\n",
              "                              ...                        \n",
              "1313    @AmericanAir \"sorry you were disappointed\" #ou...\n",
              "1314    @AmericanAir were stuck on a plane in Dallas t...\n",
              "1315    @united Lost my wallet on flight 1007 yesterda...\n",
              "1316    @USAirways Travelling from pwm to atl on Sunda...\n",
              "1317                           @SouthwestAir thank you :)\n",
              "Name: text, Length: 1318, dtype: object"
            ]
          },
          "metadata": {
            "tags": []
          },
          "execution_count": 75
        }
      ]
    },
    {
      "cell_type": "code",
      "metadata": {
        "id": "sT_1Vu5ya4kV"
      },
      "source": [
        "from tensorflow.keras.layers.experimental.preprocessing import TextVectorization\n",
        "\n",
        "vectorizer = TextVectorization(max_tokens=20000, output_sequence_length=200)\n",
        "text_ds = tf.data.Dataset.from_tensor_slices(x_train).batch(128)\n",
        "vectorizer.adapt(text_ds)"
      ],
      "execution_count": null,
      "outputs": []
    },
    {
      "cell_type": "code",
      "metadata": {
        "colab": {
          "base_uri": "https://localhost:8080/"
        },
        "id": "XG63j_WMa4rq",
        "outputId": "1027a585-b218-4042-faff-f6d385920060"
      },
      "source": [
        "vocabulary = vectorizer.get_vocabulary()[:5]\n",
        "vocabulary"
      ],
      "execution_count": null,
      "outputs": [
        {
          "output_type": "execute_result",
          "data": {
            "text/plain": [
              "['', '[UNK]', 'to', 'the', 'i']"
            ]
          },
          "metadata": {
            "tags": []
          },
          "execution_count": 10
        }
      ]
    },
    {
      "cell_type": "code",
      "metadata": {
        "colab": {
          "base_uri": "https://localhost:8080/"
        },
        "id": "uVgG0xV3OGmm",
        "outputId": "0c08cce1-19dd-4d3e-8f1d-e634b3d6fc9b"
      },
      "source": [
        "voc = vectorizer.get_vocabulary()\n",
        "word_index = dict(zip(voc, range(len(voc))))\n",
        "word_index"
      ],
      "execution_count": null,
      "outputs": [
        {
          "output_type": "execute_result",
          "data": {
            "text/plain": [
              "{'': 0,\n",
              " '[UNK]': 1,\n",
              " 'to': 2,\n",
              " 'the': 3,\n",
              " 'i': 4,\n",
              " 'a': 5,\n",
              " 'united': 6,\n",
              " 'you': 7,\n",
              " 'for': 8,\n",
              " 'flight': 9,\n",
              " 'on': 10,\n",
              " 'and': 11,\n",
              " 'my': 12,\n",
              " 'usairways': 13,\n",
              " 'americanair': 14,\n",
              " 'is': 15,\n",
              " 'in': 16,\n",
              " 'southwestair': 17,\n",
              " 'jetblue': 18,\n",
              " 'of': 19,\n",
              " 'me': 20,\n",
              " 'it': 21,\n",
              " 'your': 22,\n",
              " 'have': 23,\n",
              " 'was': 24,\n",
              " 'not': 25,\n",
              " 'with': 26,\n",
              " 'at': 27,\n",
              " 'that': 28,\n",
              " 'no': 29,\n",
              " 'this': 30,\n",
              " 'get': 31,\n",
              " 'but': 32,\n",
              " 'from': 33,\n",
              " 'be': 34,\n",
              " 'are': 35,\n",
              " 'can': 36,\n",
              " 'we': 37,\n",
              " 'now': 38,\n",
              " 'thanks': 39,\n",
              " 'cancelled': 40,\n",
              " 'an': 41,\n",
              " 'service': 42,\n",
              " 'just': 43,\n",
              " 'do': 44,\n",
              " 'so': 45,\n",
              " 'been': 46,\n",
              " 'help': 47,\n",
              " 'will': 48,\n",
              " 'time': 49,\n",
              " 'customer': 50,\n",
              " 'im': 51,\n",
              " 'up': 52,\n",
              " 'our': 53,\n",
              " 'out': 54,\n",
              " 'they': 55,\n",
              " 'us': 56,\n",
              " 'what': 57,\n",
              " 'hours': 58,\n",
              " '2': 59,\n",
              " 'when': 60,\n",
              " 'amp': 61,\n",
              " 'flights': 62,\n",
              " 'plane': 63,\n",
              " 'its': 64,\n",
              " 'hold': 65,\n",
              " 'all': 66,\n",
              " 'if': 67,\n",
              " 'how': 68,\n",
              " 'why': 69,\n",
              " 'thank': 70,\n",
              " 'cant': 71,\n",
              " 'still': 72,\n",
              " 'please': 73,\n",
              " 'there': 74,\n",
              " 'one': 75,\n",
              " 'would': 76,\n",
              " 'need': 77,\n",
              " 'delayed': 78,\n",
              " 'virginamerica': 79,\n",
              " 'back': 80,\n",
              " 'call': 81,\n",
              " 'gate': 82,\n",
              " 'about': 83,\n",
              " 'had': 84,\n",
              " 'dont': 85,\n",
              " 'as': 86,\n",
              " 'flightled': 87,\n",
              " 'has': 88,\n",
              " 'or': 89,\n",
              " 'bag': 90,\n",
              " 'after': 91,\n",
              " 'hour': 92,\n",
              " 'got': 93,\n",
              " 'any': 94,\n",
              " 'late': 95,\n",
              " 'am': 96,\n",
              " 'phone': 97,\n",
              " 'like': 98,\n",
              " 'today': 99,\n",
              " 'guys': 100,\n",
              " 'airline': 101,\n",
              " 'over': 102,\n",
              " 'by': 103,\n",
              " 'more': 104,\n",
              " 'were': 105,\n",
              " 'again': 106,\n",
              " 'fly': 107,\n",
              " 'waiting': 108,\n",
              " 'trying': 109,\n",
              " 'only': 110,\n",
              " 'know': 111,\n",
              " 'because': 112,\n",
              " 'great': 113,\n",
              " 'u': 114,\n",
              " 'did': 115,\n",
              " 'airport': 116,\n",
              " 'going': 117,\n",
              " 'way': 118,\n",
              " 'should': 119,\n",
              " 'ive': 120,\n",
              " 'then': 121,\n",
              " 'flying': 122,\n",
              " 'never': 123,\n",
              " 'day': 124,\n",
              " 'wait': 125,\n",
              " 'make': 126,\n",
              " 'go': 127,\n",
              " 'weather': 128,\n",
              " 'really': 129,\n",
              " 'last': 130,\n",
              " '3': 131,\n",
              " 'tomorrow': 132,\n",
              " 'even': 133,\n",
              " 'delay': 134,\n",
              " 'minutes': 135,\n",
              " 'good': 136,\n",
              " 'change': 137,\n",
              " 'home': 138,\n",
              " 'people': 139,\n",
              " '4': 140,\n",
              " 'off': 141,\n",
              " 'here': 142,\n",
              " 'want': 143,\n",
              " 'seat': 144,\n",
              " 'first': 145,\n",
              " 'another': 146,\n",
              " 'very': 147,\n",
              " 'new': 148,\n",
              " 'take': 149,\n",
              " 'told': 150,\n",
              " 'check': 151,\n",
              " 'luggage': 152,\n",
              " 'bags': 153,\n",
              " 'see': 154,\n",
              " 'agent': 155,\n",
              " 'dm': 156,\n",
              " 'ever': 157,\n",
              " 'could': 158,\n",
              " 'them': 159,\n",
              " 'worst': 160,\n",
              " 'ticket': 161,\n",
              " 'number': 162,\n",
              " 'someone': 163,\n",
              " 'getting': 164,\n",
              " 'due': 165,\n",
              " 'work': 166,\n",
              " 'travel': 167,\n",
              " 'thats': 168,\n",
              " 'than': 169,\n",
              " 'love': 170,\n",
              " 'lost': 171,\n",
              " 'email': 172,\n",
              " 'crew': 173,\n",
              " 'next': 174,\n",
              " 'baggage': 175,\n",
              " 'yes': 176,\n",
              " 'too': 177,\n",
              " 'much': 178,\n",
              " 'through': 179,\n",
              " 'hrs': 180,\n",
              " 'right': 181,\n",
              " 'flighted': 182,\n",
              " 'experience': 183,\n",
              " 'days': 184,\n",
              " 'trip': 185,\n",
              " 'their': 186,\n",
              " 'two': 187,\n",
              " 'before': 188,\n",
              " 'who': 189,\n",
              " 'seats': 190,\n",
              " 'other': 191,\n",
              " 'sitting': 192,\n",
              " 'didnt': 193,\n",
              " 'she': 194,\n",
              " 'problems': 195,\n",
              " 'made': 196,\n",
              " 'let': 197,\n",
              " 'some': 198,\n",
              " 'well': 199,\n",
              " 'her': 200,\n",
              " 'best': 201,\n",
              " 'aa': 202,\n",
              " 'response': 203,\n",
              " 'online': 204,\n",
              " 'staff': 205,\n",
              " 'boarding': 206,\n",
              " 'where': 207,\n",
              " 'being': 208,\n",
              " 'sent': 209,\n",
              " 'passengers': 210,\n",
              " '1': 211,\n",
              " 'already': 212,\n",
              " 'sure': 213,\n",
              " 'does': 214,\n",
              " 'bad': 215,\n",
              " 'min': 216,\n",
              " 'better': 217,\n",
              " 'said': 218,\n",
              " 'left': 219,\n",
              " 'jfk': 220,\n",
              " 'wont': 221,\n",
              " 'ill': 222,\n",
              " '5': 223,\n",
              " 'since': 224,\n",
              " 'long': 225,\n",
              " 'customers': 226,\n",
              " 'times': 227,\n",
              " 'stuck': 228,\n",
              " 'line': 229,\n",
              " 'into': 230,\n",
              " 'booked': 231,\n",
              " 'give': 232,\n",
              " 'flightr': 233,\n",
              " 'doesnt': 234,\n",
              " 'same': 235,\n",
              " 'book': 236,\n",
              " 'tonight': 237,\n",
              " 'refund': 238,\n",
              " 'says': 239,\n",
              " 'fleek': 240,\n",
              " 'youre': 241,\n",
              " 'whats': 242,\n",
              " 'nothing': 243,\n",
              " 'use': 244,\n",
              " 'reservation': 245,\n",
              " 'agents': 246,\n",
              " 'yet': 247,\n",
              " 'find': 248,\n",
              " 'care': 249,\n",
              " 'think': 250,\n",
              " 'miles': 251,\n",
              " 'system': 252,\n",
              " 'tell': 253,\n",
              " 'fleets': 254,\n",
              " 'airlines': 255,\n",
              " 'w': 256,\n",
              " 'miss': 257,\n",
              " 'booking': 258,\n",
              " 'website': 259,\n",
              " 'put': 260,\n",
              " 'pay': 261,\n",
              " 'morning': 262,\n",
              " 'flt': 263,\n",
              " 'dfw': 264,\n",
              " 'night': 265,\n",
              " 'he': 266,\n",
              " 'delays': 267,\n",
              " 'air': 268,\n",
              " 'tried': 269,\n",
              " 'info': 270,\n",
              " 'rebooked': 271,\n",
              " 'issue': 272,\n",
              " 'also': 273,\n",
              " 'hotel': 274,\n",
              " 'connection': 275,\n",
              " 'ago': 276,\n",
              " 'rude': 277,\n",
              " 'nice': 278,\n",
              " 'lax': 279,\n",
              " 'keep': 280,\n",
              " 'done': 281,\n",
              " 'tickets': 282,\n",
              " 'down': 283,\n",
              " 'anything': 284,\n",
              " 'hope': 285,\n",
              " 'called': 286,\n",
              " 'week': 287,\n",
              " 'class': 288,\n",
              " 'follow': 289,\n",
              " 'missed': 290,\n",
              " 'free': 291,\n",
              " 'business': 292,\n",
              " 'wifi': 293,\n",
              " 'finally': 294,\n",
              " 'mins': 295,\n",
              " 'issues': 296,\n",
              " '30': 297,\n",
              " 'working': 298,\n",
              " 'until': 299,\n",
              " 'awesome': 300,\n",
              " 'rebook': 301,\n",
              " 'every': 302,\n",
              " 'app': 303,\n",
              " 'able': 304,\n",
              " '6': 305,\n",
              " 'having': 306,\n",
              " 'say': 307,\n",
              " 'missing': 308,\n",
              " 'leave': 309,\n",
              " 'appreciate': 310,\n",
              " 'problem': 311,\n",
              " 'person': 312,\n",
              " 'come': 313,\n",
              " 'checked': 314,\n",
              " 'anyone': 315,\n",
              " 'looking': 316,\n",
              " 'phl': 317,\n",
              " 'without': 318,\n",
              " 'ok': 319,\n",
              " 'many': 320,\n",
              " 'id': 321,\n",
              " 'helpful': 322,\n",
              " 'understand': 323,\n",
              " 'making': 324,\n",
              " 'early': 325,\n",
              " 'credit': 326,\n",
              " 'which': 327,\n",
              " 'via': 328,\n",
              " 'team': 329,\n",
              " 'look': 330,\n",
              " 'delta': 331,\n",
              " 'voucher': 332,\n",
              " 'upgrade': 333,\n",
              " 'sfo': 334,\n",
              " 'isnt': 335,\n",
              " 'board': 336,\n",
              " 'available': 337,\n",
              " '10': 338,\n",
              " 'update': 339,\n",
              " 'status': 340,\n",
              " 'always': 341,\n",
              " 'almost': 342,\n",
              " '“jetblue': 343,\n",
              " 'yesterday': 344,\n",
              " 'terrible': 345,\n",
              " 'planes': 346,\n",
              " 'answer': 347,\n",
              " '1st': 348,\n",
              " 'sorry': 349,\n",
              " 'amazing': 350,\n",
              " 'thx': 351,\n",
              " 'talk': 352,\n",
              " 'couldnt': 353,\n",
              " 'money': 354,\n",
              " 'fix': 355,\n",
              " 'claim': 356,\n",
              " 'bc': 357,\n",
              " 'southwest': 358,\n",
              " 'rt': 359,\n",
              " 'paid': 360,\n",
              " 'ord': 361,\n",
              " 'wasnt': 362,\n",
              " 'rep': 363,\n",
              " 'open': 364,\n",
              " 'instead': 365,\n",
              " 'hi': 366,\n",
              " 'earlier': 367,\n",
              " 'dca': 368,\n",
              " 'extra': 369,\n",
              " 'contact': 370,\n",
              " 'connecting': 371,\n",
              " '15': 372,\n",
              " 'disappointed': 373,\n",
              " 'year': 374,\n",
              " 'took': 375,\n",
              " 'actually': 376,\n",
              " '20': 377,\n",
              " 'supposed': 378,\n",
              " 'site': 379,\n",
              " 'received': 380,\n",
              " 'pilot': 381,\n",
              " 'name': 382,\n",
              " 'job': 383,\n",
              " 'full': 384,\n",
              " 'different': 385,\n",
              " 'attendant': 386,\n",
              " 'tarmac': 387,\n",
              " 'speak': 388,\n",
              " 'pass': 389,\n",
              " 'havent': 390,\n",
              " 'departure': 391,\n",
              " 'though': 392,\n",
              " 'send': 393,\n",
              " 'boston': 394,\n",
              " 'unacceptable': 395,\n",
              " 'stop': 396,\n",
              " 'fail': 397,\n",
              " 'airways': 398,\n",
              " 'try': 399,\n",
              " 'poor': 400,\n",
              " 'found': 401,\n",
              " 'family': 402,\n",
              " 'dallas': 403,\n",
              " 'vegas': 404,\n",
              " 'hung': 405,\n",
              " 'horrible': 406,\n",
              " '12': 407,\n",
              " 'ridiculous': 408,\n",
              " 'while': 409,\n",
              " 'doing': 410,\n",
              " 'direct': 411,\n",
              " 'destinationdragons': 412,\n",
              " 'add': 413,\n",
              " 'weeks': 414,\n",
              " 'landed': 415,\n",
              " 'ground': 416,\n",
              " 'denver': 417,\n",
              " 'chicago': 418,\n",
              " '8': 419,\n",
              " '25': 420,\n",
              " 'yall': 421,\n",
              " 'stranded': 422,\n",
              " 'start': 423,\n",
              " 'least': 424,\n",
              " 'happy': 425,\n",
              " 'employees': 426,\n",
              " 'card': 427,\n",
              " 'calling': 428,\n",
              " 'most': 429,\n",
              " 'his': 430,\n",
              " 'company': 431,\n",
              " 'chance': 432,\n",
              " 'american': 433,\n",
              " 'something': 434,\n",
              " 'show': 435,\n",
              " 'old': 436,\n",
              " 'oh': 437,\n",
              " 'leaving': 438,\n",
              " 'half': 439,\n",
              " 'ewr': 440,\n",
              " 'everyone': 441,\n",
              " '45': 442,\n",
              " 'ur': 443,\n",
              " 'twitter': 444,\n",
              " 'tweet': 445,\n",
              " 'those': 446,\n",
              " 'snow': 447,\n",
              " 'seriously': 448,\n",
              " 'these': 449,\n",
              " 'reply': 450,\n",
              " 'enough': 451,\n",
              " 'clt': 452,\n",
              " 'wrong': 453,\n",
              " 'vacation': 454,\n",
              " 'taking': 455,\n",
              " 'reservations': 456,\n",
              " 'reason': 457,\n",
              " 'past': 458,\n",
              " 'needs': 459,\n",
              " 'far': 460,\n",
              " 'both': 461,\n",
              " 'bos': 462,\n",
              " 'big': 463,\n",
              " '7': 464,\n",
              " '40': 465,\n",
              " 'san': 466,\n",
              " 'point': 467,\n",
              " 'offer': 468,\n",
              " 'might': 469,\n",
              " 'coming': 470,\n",
              " 'together': 471,\n",
              " 'thing': 472,\n",
              " 'policy': 473,\n",
              " 'once': 474,\n",
              " 'mechanical': 475,\n",
              " 'frustrated': 476,\n",
              " 'theres': 477,\n",
              " 'sit': 478,\n",
              " 'maybe': 479,\n",
              " 'charlotte': 480,\n",
              " 'changed': 481,\n",
              " 'wife': 482,\n",
              " 'twice': 483,\n",
              " 'three': 484,\n",
              " 'stay': 485,\n",
              " 'runway': 486,\n",
              " 'option': 487,\n",
              " 'little': 488,\n",
              " 'gave': 489,\n",
              " 'few': 490,\n",
              " '24': 491,\n",
              " 'message': 492,\n",
              " 'may': 493,\n",
              " 'food': 494,\n",
              " 'charge': 495,\n",
              " 'used': 496,\n",
              " 'traveling': 497,\n",
              " 'link': 498,\n",
              " 'desk': 499,\n",
              " 'confirmation': 500,\n",
              " 'car': 501,\n",
              " 'away': 502,\n",
              " 'asked': 503,\n",
              " 'account': 504,\n",
              " 'using': 505,\n",
              " 'things': 506,\n",
              " 'return': 507,\n",
              " 'question': 508,\n",
              " 'less': 509,\n",
              " 'him': 510,\n",
              " 'awful': 511,\n",
              " 'possible': 512,\n",
              " 'nyc': 513,\n",
              " 'hey': 514,\n",
              " 'given': 515,\n",
              " 'fee': 516,\n",
              " 'destination': 517,\n",
              " 'broken': 518,\n",
              " 'went': 519,\n",
              " 'terminal': 520,\n",
              " 'saying': 521,\n",
              " 'kids': 522,\n",
              " 'guess': 523,\n",
              " 'cool': 524,\n",
              " 'weve': 525,\n",
              " 'real': 526,\n",
              " 'landing': 527,\n",
              " 'around': 528,\n",
              " 'thru': 529,\n",
              " 'scheduled': 530,\n",
              " 'plus': 531,\n",
              " 'makes': 532,\n",
              " 'lack': 533,\n",
              " 'hr': 534,\n",
              " 'frustrating': 535,\n",
              " 'such': 536,\n",
              " 'soon': 537,\n",
              " 'newark': 538,\n",
              " 'idea': 539,\n",
              " 'hard': 540,\n",
              " 'telling': 541,\n",
              " 'pls': 542,\n",
              " 'longer': 543,\n",
              " 'life': 544,\n",
              " 'houston': 545,\n",
              " 'else': 546,\n",
              " 'during': 547,\n",
              " 'changes': 548,\n",
              " '200': 549,\n",
              " 'seems': 550,\n",
              " 'loyal': 551,\n",
              " 'lot': 552,\n",
              " 'looks': 553,\n",
              " 'international': 554,\n",
              " 'dc': 555,\n",
              " 'checkin': 556,\n",
              " 'busy': 557,\n",
              " 'row': 558,\n",
              " 'request': 559,\n",
              " 'quick': 560,\n",
              " 'iad': 561,\n",
              " 'hear': 562,\n",
              " 'cost': 563,\n",
              " 'believe': 564,\n",
              " 'attendants': 565,\n",
              " 'arrived': 566,\n",
              " 'wouldnt': 567,\n",
              " 'worse': 568,\n",
              " 'philly': 569,\n",
              " 'lol': 570,\n",
              " 'heard': 571,\n",
              " 'forward': 572,\n",
              " 'calls': 573,\n",
              " 'wanted': 574,\n",
              " 'waited': 575,\n",
              " 'ua': 576,\n",
              " 'phx': 577,\n",
              " 'own': 578,\n",
              " 'hoping': 579,\n",
              " 'happened': 580,\n",
              " 'friend': 581,\n",
              " 'arent': 582,\n",
              " 'suck': 583,\n",
              " 'spent': 584,\n",
              " 'sat': 585,\n",
              " 'reflight': 586,\n",
              " 'process': 587,\n",
              " 'points': 588,\n",
              " 'member': 589,\n",
              " 'maintenance': 590,\n",
              " 'information': 591,\n",
              " 'fll': 592,\n",
              " 'feel': 593,\n",
              " 'cust': 594,\n",
              " 'checking': 595,\n",
              " 'youve': 596,\n",
              " 'minute': 597,\n",
              " 'mean': 598,\n",
              " 'lga': 599,\n",
              " 'glad': 600,\n",
              " 'everything': 601,\n",
              " 'assistance': 602,\n",
              " 'swa': 603,\n",
              " 'standby': 604,\n",
              " 'needed': 605,\n",
              " 'lets': 606,\n",
              " 'la': 607,\n",
              " 'jet': 608,\n",
              " 'iah': 609,\n",
              " 'expect': 610,\n",
              " 'boarded': 611,\n",
              " '50': 612,\n",
              " '100': 613,\n",
              " 'years': 614,\n",
              " 'usair': 615,\n",
              " 'options': 616,\n",
              " 'human': 617,\n",
              " 'error': 618,\n",
              " 'entire': 619,\n",
              " 'each': 620,\n",
              " 'counting': 621,\n",
              " 'cannot': 622,\n",
              " 'buy': 623,\n",
              " 'blue': 624,\n",
              " 'arrive': 625,\n",
              " 'world': 626,\n",
              " 'thought': 627,\n",
              " 'pick': 628,\n",
              " 'monday': 629,\n",
              " 'live': 630,\n",
              " 'joke': 631,\n",
              " 'flighting': 632,\n",
              " 'flew': 633,\n",
              " 'end': 634,\n",
              " 'deal': 635,\n",
              " 'complaint': 636,\n",
              " 'case': 637,\n",
              " 'appreciated': 638,\n",
              " '800': 639,\n",
              " 'second': 640,\n",
              " 'reach': 641,\n",
              " 'imaginedragons': 642,\n",
              " 'guy': 643,\n",
              " 'computer': 644,\n",
              " 'carry': 645,\n",
              " 'automated': 646,\n",
              " 'ask': 647,\n",
              " 'asap': 648,\n",
              " '2nd': 649,\n",
              " 'whole': 650,\n",
              " 'unitedairlines': 651,\n",
              " 'supervisor': 652,\n",
              " 'room': 653,\n",
              " 'place': 654,\n",
              " 'passenger': 655,\n",
              " 'months': 656,\n",
              " 'miami': 657,\n",
              " 'happens': 658,\n",
              " 'future': 659,\n",
              " 'friends': 660,\n",
              " 'fine': 661,\n",
              " 'fees': 662,\n",
              " 'drive': 663,\n",
              " 'correct': 664,\n",
              " 'communication': 665,\n",
              " 'cabin': 666,\n",
              " 'bwi': 667,\n",
              " 'bring': 668,\n",
              " 'beyond': 669,\n",
              " 'asking': 670,\n",
              " 'yeah': 671,\n",
              " 'wish': 672,\n",
              " 'theyre': 673,\n",
              " 'taken': 674,\n",
              " 'sucks': 675,\n",
              " 'shouldnt': 676,\n",
              " 'seem': 677,\n",
              " 'probably': 678,\n",
              " 'pretty': 679,\n",
              " 'paying': 680,\n",
              " 'moved': 681,\n",
              " 'holding': 682,\n",
              " 'hate': 683,\n",
              " 'form': 684,\n",
              " 'empty': 685,\n",
              " 'den': 686,\n",
              " 'bought': 687,\n",
              " 'between': 688,\n",
              " 'apology': 689,\n",
              " 'under': 690,\n",
              " 'sad': 691,\n",
              " 'record': 692,\n",
              " 'rather': 693,\n",
              " 'plans': 694,\n",
              " 'pilots': 695,\n",
              " 'mco': 696,\n",
              " 'lose': 697,\n",
              " 'las': 698,\n",
              " 'kind': 699,\n",
              " 'hopefully': 700,\n",
              " 'group': 701,\n",
              " 'fault': 702,\n",
              " 'confirmed': 703,\n",
              " 'club': 704,\n",
              " 'ceo': 705,\n",
              " 'upset': 706,\n",
              " 'tsa': 707,\n",
              " 'sw': 708,\n",
              " 'super': 709,\n",
              " 'running': 710,\n",
              " 'offered': 711,\n",
              " 'nashville': 712,\n",
              " 'leg': 713,\n",
              " 'helping': 714,\n",
              " 'city': 715,\n",
              " 'award': 716,\n",
              " 'wow': 717,\n",
              " 'tv': 718,\n",
              " 'sunday': 719,\n",
              " 'share': 720,\n",
              " 'run': 721,\n",
              " 'pm': 722,\n",
              " 'orlando': 723,\n",
              " 'media': 724,\n",
              " 'happen': 725,\n",
              " 'either': 726,\n",
              " 'easy': 727,\n",
              " 'details': 728,\n",
              " 'delivered': 729,\n",
              " 'counter': 730,\n",
              " 'completely': 731,\n",
              " 'clothes': 732,\n",
              " 'charged': 733,\n",
              " 'austin': 734,\n",
              " 'atlanta': 735,\n",
              " 'apparently': 736,\n",
              " 'address': 737,\n",
              " 'support': 738,\n",
              " 'set': 739,\n",
              " 'ready': 740,\n",
              " 'provide': 741,\n",
              " 'members': 742,\n",
              " 'luv': 743,\n",
              " 'inflight': 744,\n",
              " 'handle': 745,\n",
              " 'gonna': 746,\n",
              " 'gets': 747,\n",
              " 'disconnected': 748,\n",
              " 'companion': 749,\n",
              " 'access': 750,\n",
              " '9': 751,\n",
              " 'wtf': 752,\n",
              " 'takes': 753,\n",
              " 'safety': 754,\n",
              " 'r': 755,\n",
              " 'means': 756,\n",
              " 'giving': 757,\n",
              " 'flown': 758,\n",
              " 'flightlations': 759,\n",
              " 'figure': 760,\n",
              " 'currently': 761,\n",
              " 'tuesday': 762,\n",
              " 'top': 763,\n",
              " 'switch': 764,\n",
              " 'respond': 765,\n",
              " 'reps': 766,\n",
              " 'price': 767,\n",
              " 'lounge': 768,\n",
              " 'losing': 769,\n",
              " 'layover': 770,\n",
              " 'kudos': 771,\n",
              " 'huge': 772,\n",
              " 'fun': 773,\n",
              " 'compensation': 774,\n",
              " 'allowed': 775,\n",
              " 'allow': 776,\n",
              " 'zero': 777,\n",
              " 'wonderful': 778,\n",
              " 'winter': 779,\n",
              " 'space': 780,\n",
              " 'sleep': 781,\n",
              " 'services': 782,\n",
              " 'reschedule': 783,\n",
              " 'okay': 784,\n",
              " 'middle': 785,\n",
              " 'fare': 786,\n",
              " 'extremely': 787,\n",
              " 'course': 788,\n",
              " 'country': 789,\n",
              " 'connections': 790,\n",
              " 'changing': 791,\n",
              " 'cause': 792,\n",
              " 'atl': 793,\n",
              " 'answers': 794,\n",
              " 'aircraft': 795,\n",
              " '11': 796,\n",
              " 'updates': 797,\n",
              " 'true': 798,\n",
              " 'situation': 799,\n",
              " 'showing': 800,\n",
              " 'shit': 801,\n",
              " 'seen': 802,\n",
              " 'rock': 803,\n",
              " 'myself': 804,\n",
              " 'mileage': 805,\n",
              " 'lots': 806,\n",
              " 'knew': 807,\n",
              " 'high': 808,\n",
              " 'gt': 809,\n",
              " 'gives': 810,\n",
              " 'front': 811,\n",
              " 'flightlation': 812,\n",
              " 'employee': 813,\n",
              " 'despite': 814,\n",
              " 'date': 815,\n",
              " 'customerservice': 816,\n",
              " '35': 817,\n",
              " '1k': 818,\n",
              " 'wall': 819,\n",
              " 'unfortunately': 820,\n",
              " 'unable': 821,\n",
              " 'treated': 822,\n",
              " 'treat': 823,\n",
              " 'tix': 824,\n",
              " 'submitted': 825,\n",
              " 'storm': 826,\n",
              " 'shes': 827,\n",
              " 'several': 828,\n",
              " 'sending': 829,\n",
              " 'schedule': 830,\n",
              " 'route': 831,\n",
              " 'responding': 832,\n",
              " 'priority': 833,\n",
              " 'part': 834,\n",
              " 'overnight': 835,\n",
              " 'must': 836,\n",
              " 'month': 837,\n",
              " 'luck': 838,\n",
              " 'inconvenience': 839,\n",
              " 'hasnt': 840,\n",
              " 'gold': 841,\n",
              " 'friday': 842,\n",
              " 'following': 843,\n",
              " 'fixed': 844,\n",
              " 'cold': 845,\n",
              " 'came': 846,\n",
              " '90': 847,\n",
              " '3rd': 848,\n",
              " '2015': 849,\n",
              " 'works': 850,\n",
              " 'word': 851,\n",
              " 'spoke': 852,\n",
              " 'social': 853,\n",
              " 'read': 854,\n",
              " 'rdu': 855,\n",
              " 'purchase': 856,\n",
              " 'plan': 857,\n",
              " 'phones': 858,\n",
              " 'original': 859,\n",
              " 'multiple': 860,\n",
              " 'letter': 861,\n",
              " 'land': 862,\n",
              " 'however': 863,\n",
              " 'haha': 864,\n",
              " 'goes': 865,\n",
              " 'friendly': 866,\n",
              " 'failed': 867,\n",
              " 'fact': 868,\n",
              " 'confirm': 869,\n",
              " 'complete': 870,\n",
              " 'attitude': 871,\n",
              " 'weekend': 872,\n",
              " 'usairwaysfail': 873,\n",
              " 'totally': 874,\n",
              " 'sense': 875,\n",
              " 'saw': 876,\n",
              " 'report': 877,\n",
              " 're': 878,\n",
              " 'ppl': 879,\n",
              " 'plz': 880,\n",
              " 'mobile': 881,\n",
              " 'mine': 882,\n",
              " 'literally': 883,\n",
              " 'knows': 884,\n",
              " 'ice': 885,\n",
              " 'helped': 886,\n",
              " 'happening': 887,\n",
              " 'four': 888,\n",
              " 'forced': 889,\n",
              " 'explain': 890,\n",
              " 'excited': 891,\n",
              " 'depart': 892,\n",
              " 'control': 893,\n",
              " 'choice': 894,\n",
              " 'child': 895,\n",
              " 'bna': 896,\n",
              " 'bit': 897,\n",
              " 'birthday': 898,\n",
              " 'b': 899,\n",
              " 'afternoon': 900,\n",
              " 'absolutely': 901,\n",
              " 'web': 902,\n",
              " 'water': 903,\n",
              " 'watch': 904,\n",
              " 'vouchers': 905,\n",
              " 'shows': 906,\n",
              " 'rescheduled': 907,\n",
              " 'phoenix': 908,\n",
              " 'non': 909,\n",
              " 'news': 910,\n",
              " 'mia': 911,\n",
              " 'man': 912,\n",
              " 'jetblues': 913,\n",
              " 'held': 914,\n",
              " 'flightd': 915,\n",
              " 'feb': 916,\n",
              " 'explanation': 917,\n",
              " 'excellent': 918,\n",
              " 'drop': 919,\n",
              " 'door': 920,\n",
              " 'domestic': 921,\n",
              " 'dividend': 922,\n",
              " 'dealing': 923,\n",
              " 'cs': 924,\n",
              " 'crazy': 925,\n",
              " 'complaints': 926,\n",
              " 'closed': 927,\n",
              " 'behind': 928,\n",
              " 'bank': 929,\n",
              " 'area': 930,\n",
              " 'americanairlines': 931,\n",
              " 'yr': 932,\n",
              " 'worked': 933,\n",
              " 'wo': 934,\n",
              " 'trouble': 935,\n",
              " 'stuff': 936,\n",
              " 'started': 937,\n",
              " 'spend': 938,\n",
              " 'small': 939,\n",
              " 'sign': 940,\n",
              " 'saturday': 941,\n",
              " 'relations': 942,\n",
              " 'platinum': 943,\n",
              " 'note': 944,\n",
              " 'nope': 945,\n",
              " 'n': 946,\n",
              " 'lines': 947,\n",
              " 'keeps': 948,\n",
              " 'i’m': 949,\n",
              " 'husband': 950,\n",
              " 'hell': 951,\n",
              " 'flyer': 952,\n",
              " 'feedback': 953,\n",
              " 'code': 954,\n",
              " 'caused': 955,\n",
              " 'baby': 956,\n",
              " 'arrival': 957,\n",
              " 'anyway': 958,\n",
              " 'answering': 959,\n",
              " 'absolute': 960,\n",
              " 'warm': 961,\n",
              " 'traveler': 962,\n",
              " 'svc': 963,\n",
              " 'short': 964,\n",
              " 'ruined': 965,\n",
              " 'receipt': 966,\n",
              " 'passbook': 967,\n",
              " 'office': 968,\n",
              " 'neveragain': 969,\n",
              " 'moving': 970,\n",
              " 'mom': 971,\n",
              " 'mess': 972,\n",
              " 'list': 973,\n",
              " 'lady': 974,\n",
              " 'keeping': 975,\n",
              " 'hello': 976,\n",
              " 'hangs': 977,\n",
              " 'hang': 978,\n",
              " 'fl': 979,\n",
              " 'failure': 980,\n",
              " 'daughter': 981,\n",
              " 'arriving': 982,\n",
              " '“united': 983,\n",
              " 'window': 984,\n",
              " 'updated': 985,\n",
              " 'tmrw': 986,\n",
              " 'tag': 987,\n",
              " 'seating': 988,\n",
              " 'regarding': 989,\n",
              " 'power': 990,\n",
              " 'page': 991,\n",
              " 'offering': 992,\n",
              " 'ny': 993,\n",
              " 'nonstop': 994,\n",
              " 'hes': 995,\n",
              " 'gates': 996,\n",
              " 'funeral': 997,\n",
              " 'dropped': 998,\n",
              " 'definitely': 999,\n",
              " ...}"
            ]
          },
          "metadata": {
            "tags": []
          },
          "execution_count": 11
        }
      ]
    },
    {
      "cell_type": "markdown",
      "metadata": {
        "id": "ChjHYbdAqj21"
      },
      "source": [
        "Converting dataframe to string"
      ]
    },
    {
      "cell_type": "code",
      "metadata": {
        "colab": {
          "base_uri": "https://localhost:8080/"
        },
        "id": "ogqXIob4pj3Z",
        "outputId": "e71b3c36-80cf-4e34-8647-1cf15b980b78"
      },
      "source": [
        "import nltk\n",
        "#nltk.download('punkt')\n",
        "#nltk.download('averaged_perceptron_tagger')\n",
        "#nltk.download('wordnet')\n",
        "\n",
        "# tokenize: search: nltk tokenize \n",
        "example = x_dev[5]\n",
        "\n",
        "from nltk.tokenize import word_tokenize\n",
        "from sklearn.feature_extraction.text import TfidfTransformer\n",
        "from sklearn.feature_extraction.text import CountVectorizer\n",
        "\n",
        "example_tokenize = word_tokenize(example) \n",
        "print(\"-------------------------tokenize:\")\n",
        "print(example_tokenize)\n",
        "\n",
        "# stemmer: search: nltk stemmer  \n",
        "stemmer = nltk.stem.PorterStemmer()\n",
        "example_stem = stemmer.stem(example)\n",
        "print(\"-------------------------stem:\")\n",
        "print(example_stem)\n",
        "\n",
        "lemma = nltk.stem.WordNetLemmatizer()\n",
        "example_lemm = lemma.lemmatize(example)\n",
        "print(\"-------------------------lemm:\")\n",
        "print(example_lemm)\n",
        "\n",
        "# tf-idf: search: scikit learn tf-idf https://scikit-learn.org/stable/modules/generated/sklearn.feature_extraction.text.TfidfTransformer.html\n",
        "# search scikit learn CountVectorizer example: https://scikit-learn.org/stable/modules/generated/sklearn.feature_extraction.text.CountVectorizer.html\n",
        "# print(\"-------------------------CV:\") \n",
        "# vectorizer = CountVectorizer()\n",
        "# X = vectorizer.fit_transform([example])\n",
        "# print(vectorizer.get_feature_names())\n",
        "\n",
        "# print(\"-------------------------tfidf:\")\n",
        "# pipe = Pipeline([('count', CountVectorizer(vocabulary=vocabulary)), ('tfid', TfidfTransformer())]).fit([example])\n",
        "# print(pipe['count'].transform([example]).toarray())\n",
        "# print()\n",
        "# print(pipe['tfid'].idf_)\n",
        "\n",
        "vect = TfidfVectorizer()\n",
        "tfidf_matrix = vect.fit_transform([example])\n",
        "df = pd.DataFrame(tfidf_matrix.toarray(), columns = vect.get_feature_names())\n",
        "print(df)\n",
        "\n",
        "# pos_taging: search: nltk pos tagging example\n",
        "example_posTag=nltk.pos_tag(example_tokenize)\n",
        "print(\"-------------------------pos_taging:\")\n",
        "print(example_posTag)\n",
        "\n",
        "# consituency parsing, chunking\n",
        "grammar = \"NP: {<DT>?<JJ>*<NN>}\"\n",
        "cp = nltk.RegexpParser(grammar)\n",
        "result = cp.parse(example_posTag)\n",
        "print(result)"
      ],
      "execution_count": null,
      "outputs": [
        {
          "output_type": "stream",
          "text": [
            "-------------------------tokenize:\n",
            "['@', 'united', 'common', '!', '!', 'keep', 'your', 'paper', 'work', 'ready', 'and', 'do', \"n't\", 'delay', 'our', 'flights', '(', '#', '1585', ')', 'and', 'meetings', '@', 'ChooseChicago']\n",
            "-------------------------stem:\n",
            "@united common!! keep your paper work ready and don't delay our flights(#1585)and meetings @choosechicago\n",
            "-------------------------lemm:\n",
            "@united common!! keep your paper work ready and don't delay our flights(#1585)and meetings @ChooseChicago\n",
            "       1585       and  choosechicago  ...    united      work      your\n",
            "0  0.235702  0.471405       0.235702  ...  0.235702  0.235702  0.235702\n",
            "\n",
            "[1 rows x 15 columns]\n",
            "-------------------------pos_taging:\n",
            "[('@', 'NN'), ('united', 'JJ'), ('common', 'JJ'), ('!', '.'), ('!', '.'), ('keep', 'VB'), ('your', 'PRP$'), ('paper', 'NN'), ('work', 'NN'), ('ready', 'JJ'), ('and', 'CC'), ('do', 'VBP'), (\"n't\", 'RB'), ('delay', 'VB'), ('our', 'PRP$'), ('flights', 'NNS'), ('(', '('), ('#', '#'), ('1585', 'CD'), (')', ')'), ('and', 'CC'), ('meetings', 'NNS'), ('@', 'VBP'), ('ChooseChicago', 'NNP')]\n",
            "(S\n",
            "  (NP @/NN)\n",
            "  united/JJ\n",
            "  common/JJ\n",
            "  !/.\n",
            "  !/.\n",
            "  keep/VB\n",
            "  your/PRP$\n",
            "  (NP paper/NN)\n",
            "  (NP work/NN)\n",
            "  ready/JJ\n",
            "  and/CC\n",
            "  do/VBP\n",
            "  n't/RB\n",
            "  delay/VB\n",
            "  our/PRP$\n",
            "  flights/NNS\n",
            "  (/(\n",
            "  #/#\n",
            "  1585/CD\n",
            "  )/)\n",
            "  and/CC\n",
            "  meetings/NNS\n",
            "  @/VBP\n",
            "  ChooseChicago/NNP)\n"
          ],
          "name": "stdout"
        }
      ]
    },
    {
      "cell_type": "code",
      "metadata": {
        "colab": {
          "base_uri": "https://localhost:8080/"
        },
        "id": "9aSgNggipj6K",
        "outputId": "419f64ce-170d-485f-93c5-a3e06e50f8a5"
      },
      "source": [
        "import nltk\n",
        "import re\n",
        "from nltk.tokenize import sent_tokenize, word_tokenize\n",
        "nltk.download('stopwords')\n",
        "nltk.download('punkt')\n",
        "nltk.download('averaged_perceptron_tagger')\n",
        "from tqdm import tqdm\n",
        "from nltk.corpus import stopwords\n",
        "stopwordEn = stopwords.words('english')\n",
        "from nltk.corpus import wordnet\n",
        "nltk.download('wordnet')\n",
        "from nltk.stem.snowball import SnowballStemmer\n",
        "stemmer = SnowballStemmer(\"english\", ignore_stopwords=True)\n",
        "\n",
        "def lemmaWord(word):\n",
        "    lemma = nltk.stem.WordNetLemmatizer() #wordnet.morphy(word)\n",
        "    if lemma is not None:\n",
        "        return lemma\n",
        "    else:\n",
        "        return word\n",
        "\n",
        "def stemWord(word):\n",
        "    stem = stemmer.stem(word)\n",
        "    if stem is not None:\n",
        "        return stem\n",
        "    else:\n",
        "        return word"
      ],
      "execution_count": null,
      "outputs": [
        {
          "output_type": "stream",
          "text": [
            "[nltk_data] Downloading package stopwords to /root/nltk_data...\n",
            "[nltk_data]   Unzipping corpora/stopwords.zip.\n",
            "[nltk_data] Downloading package punkt to /root/nltk_data...\n",
            "[nltk_data]   Unzipping tokenizers/punkt.zip.\n",
            "[nltk_data] Downloading package averaged_perceptron_tagger to\n",
            "[nltk_data]     /root/nltk_data...\n",
            "[nltk_data]   Unzipping taggers/averaged_perceptron_tagger.zip.\n",
            "[nltk_data] Downloading package wordnet to /root/nltk_data...\n",
            "[nltk_data]   Unzipping corpora/wordnet.zip.\n"
          ],
          "name": "stdout"
        }
      ]
    },
    {
      "cell_type": "markdown",
      "metadata": {
        "id": "v36ICV8aEQkA"
      },
      "source": [
        "# **Morphology Processing**\n",
        "\n",
        "Preprocessing stage"
      ]
    },
    {
      "cell_type": "code",
      "metadata": {
        "id": "4oIOfHNzpj9C"
      },
      "source": [
        "def processTextMorph(text, lemma=True, gram=1, rmStop=True): \n",
        "    text = re.sub(r'(https|http)?:\\/\\/(\\w|\\.|\\/|\\?|\\=|\\&|\\%)*\\b|@\\w+|', '', text, flags=re.MULTILINE) \n",
        "    tokens = word_tokenize(text)\n",
        "    whitelist = [\"n't\", \"not\", \"no\"]  \n",
        "    new_tokens = []\n",
        "    stoplist = stopwordEn if rmStop else []\n",
        "    for i in tokens:\n",
        "        i = i.lower()\n",
        "        if i.isalpha() and (i not in stoplist or i in whitelist):\n",
        "            if lemma: i = lemmaWord(i)\n",
        "            new_tokens.append(i)\n",
        "    del tokens\n",
        "    return new_tokens"
      ],
      "execution_count": null,
      "outputs": []
    },
    {
      "cell_type": "code",
      "metadata": {
        "colab": {
          "base_uri": "https://localhost:8080/",
          "height": 337
        },
        "id": "FhLR4AQ_Uvb6",
        "outputId": "36613574-c149-43f5-d69a-423906ca7828"
      },
      "source": [
        "print(x_dev[5])\n",
        "print(processTextMorph(x_dev[5]))"
      ],
      "execution_count": null,
      "outputs": [
        {
          "output_type": "stream",
          "text": [
            "@united common!! keep your paper work ready and don't delay our flights(#1585)and meetings @ChooseChicago\n"
          ],
          "name": "stdout"
        },
        {
          "output_type": "error",
          "ename": "TypeError",
          "evalue": "ignored",
          "traceback": [
            "\u001b[0;31m---------------------------------------------------------------------------\u001b[0m",
            "\u001b[0;31mTypeError\u001b[0m                                 Traceback (most recent call last)",
            "\u001b[0;32m<ipython-input-12-0aaa1b6a85cc>\u001b[0m in \u001b[0;36m<module>\u001b[0;34m()\u001b[0m\n\u001b[1;32m      1\u001b[0m \u001b[0mprint\u001b[0m\u001b[0;34m(\u001b[0m\u001b[0mx_dev\u001b[0m\u001b[0;34m[\u001b[0m\u001b[0;36m5\u001b[0m\u001b[0;34m]\u001b[0m\u001b[0;34m)\u001b[0m\u001b[0;34m\u001b[0m\u001b[0;34m\u001b[0m\u001b[0m\n\u001b[0;32m----> 2\u001b[0;31m \u001b[0mprint\u001b[0m\u001b[0;34m(\u001b[0m\u001b[0mprocessTextMorph\u001b[0m\u001b[0;34m(\u001b[0m\u001b[0mx_dev\u001b[0m\u001b[0;34m[\u001b[0m\u001b[0;36m5\u001b[0m\u001b[0;34m]\u001b[0m\u001b[0;34m)\u001b[0m\u001b[0;34m)\u001b[0m\u001b[0;34m\u001b[0m\u001b[0;34m\u001b[0m\u001b[0m\n\u001b[0m",
            "\u001b[0;32m<ipython-input-2-0ab1b344ec16>\u001b[0m in \u001b[0;36mprocessTextMorph\u001b[0;34m(text, lemma, gram, rmStop)\u001b[0m\n\u001b[1;32m      8\u001b[0m         \u001b[0mi\u001b[0m \u001b[0;34m=\u001b[0m \u001b[0mi\u001b[0m\u001b[0;34m.\u001b[0m\u001b[0mlower\u001b[0m\u001b[0;34m(\u001b[0m\u001b[0;34m)\u001b[0m\u001b[0;34m\u001b[0m\u001b[0;34m\u001b[0m\u001b[0m\n\u001b[1;32m      9\u001b[0m         \u001b[0;32mif\u001b[0m \u001b[0mi\u001b[0m\u001b[0;34m.\u001b[0m\u001b[0misalpha\u001b[0m\u001b[0;34m(\u001b[0m\u001b[0;34m)\u001b[0m \u001b[0;32mand\u001b[0m \u001b[0;34m(\u001b[0m\u001b[0mi\u001b[0m \u001b[0;32mnot\u001b[0m \u001b[0;32min\u001b[0m \u001b[0mstoplist\u001b[0m \u001b[0;32mor\u001b[0m \u001b[0mi\u001b[0m \u001b[0;32min\u001b[0m \u001b[0mwhitelist\u001b[0m\u001b[0;34m)\u001b[0m\u001b[0;34m:\u001b[0m\u001b[0;34m\u001b[0m\u001b[0;34m\u001b[0m\u001b[0m\n\u001b[0;32m---> 10\u001b[0;31m             \u001b[0;32mif\u001b[0m \u001b[0mlemma\u001b[0m\u001b[0;34m:\u001b[0m \u001b[0mi\u001b[0m \u001b[0;34m=\u001b[0m \u001b[0mlemmaWord\u001b[0m\u001b[0;34m(\u001b[0m\u001b[0mi\u001b[0m\u001b[0;34m)\u001b[0m\u001b[0;34m\u001b[0m\u001b[0;34m\u001b[0m\u001b[0m\n\u001b[0m\u001b[1;32m     11\u001b[0m             \u001b[0mnew_tokens\u001b[0m\u001b[0;34m.\u001b[0m\u001b[0mappend\u001b[0m\u001b[0;34m(\u001b[0m\u001b[0mi\u001b[0m\u001b[0;34m)\u001b[0m\u001b[0;34m\u001b[0m\u001b[0;34m\u001b[0m\u001b[0m\n\u001b[1;32m     12\u001b[0m     \u001b[0;32mdel\u001b[0m \u001b[0mtokens\u001b[0m\u001b[0;34m\u001b[0m\u001b[0;34m\u001b[0m\u001b[0m\n",
            "\u001b[0;32m<ipython-input-1-e3493345fb1b>\u001b[0m in \u001b[0;36mlemmaWord\u001b[0;34m(word)\u001b[0m\n\u001b[1;32m     14\u001b[0m \u001b[0;34m\u001b[0m\u001b[0m\n\u001b[1;32m     15\u001b[0m \u001b[0;32mdef\u001b[0m \u001b[0mlemmaWord\u001b[0m\u001b[0;34m(\u001b[0m\u001b[0mword\u001b[0m\u001b[0;34m)\u001b[0m\u001b[0;34m:\u001b[0m\u001b[0;34m\u001b[0m\u001b[0;34m\u001b[0m\u001b[0m\n\u001b[0;32m---> 16\u001b[0;31m     \u001b[0mlemma\u001b[0m \u001b[0;34m=\u001b[0m \u001b[0mnltk\u001b[0m\u001b[0;34m.\u001b[0m\u001b[0mstem\u001b[0m\u001b[0;34m.\u001b[0m\u001b[0mWordNetLemmatizer\u001b[0m\u001b[0;34m(\u001b[0m\u001b[0mword\u001b[0m\u001b[0;34m)\u001b[0m \u001b[0;31m#wordnet.morphy(word)\u001b[0m\u001b[0;34m\u001b[0m\u001b[0;34m\u001b[0m\u001b[0m\n\u001b[0m\u001b[1;32m     17\u001b[0m     \u001b[0;32mif\u001b[0m \u001b[0mlemma\u001b[0m \u001b[0;32mis\u001b[0m \u001b[0;32mnot\u001b[0m \u001b[0;32mNone\u001b[0m\u001b[0;34m:\u001b[0m\u001b[0;34m\u001b[0m\u001b[0;34m\u001b[0m\u001b[0m\n\u001b[1;32m     18\u001b[0m         \u001b[0;32mreturn\u001b[0m \u001b[0mlemma\u001b[0m\u001b[0;34m\u001b[0m\u001b[0;34m\u001b[0m\u001b[0m\n",
            "\u001b[0;31mTypeError\u001b[0m: __init__() takes 1 positional argument but 2 were given"
          ]
        }
      ]
    },
    {
      "cell_type": "markdown",
      "metadata": {
        "id": "MwKACYiYJg75"
      },
      "source": [
        "# Create a pipeline"
      ]
    },
    {
      "cell_type": "code",
      "metadata": {
        "id": "m6KURjgCojYh"
      },
      "source": [
        "# Level: Morphology, model: tf-idf\n",
        "text_clf_Morph = Pipeline([\n",
        "    # add your code about text processing           \n",
        "    ('vect', CountVectorizer(analyzer=processTextMorph)), \n",
        "    # ('tfidf', TfidfTransformer(use_idf=True)),\n",
        "\n",
        "    # change your classifier here, search: sklearn logistic regression example  \n",
        "    ('clf', LogisticRegression()) \n",
        "])"
      ],
      "execution_count": null,
      "outputs": []
    },
    {
      "cell_type": "markdown",
      "metadata": {
        "id": "r23vH66qJoBr"
      },
      "source": [
        "Train model"
      ]
    },
    {
      "cell_type": "code",
      "metadata": {
        "colab": {
          "base_uri": "https://localhost:8080/"
        },
        "id": "XqjnjoCNoo-0",
        "outputId": "e6ada786-fe2d-4a58-d44b-2682601041d3"
      },
      "source": [
        "text_clf_Morph.fit(x_train, y_train)"
      ],
      "execution_count": null,
      "outputs": [
        {
          "output_type": "stream",
          "text": [
            "/usr/local/lib/python3.7/dist-packages/sklearn/linear_model/_logistic.py:940: ConvergenceWarning: lbfgs failed to converge (status=1):\n",
            "STOP: TOTAL NO. of ITERATIONS REACHED LIMIT.\n",
            "\n",
            "Increase the number of iterations (max_iter) or scale the data as shown in:\n",
            "    https://scikit-learn.org/stable/modules/preprocessing.html\n",
            "Please also refer to the documentation for alternative solver options:\n",
            "    https://scikit-learn.org/stable/modules/linear_model.html#logistic-regression\n",
            "  extra_warning_msg=_LOGISTIC_SOLVER_CONVERGENCE_MSG)\n"
          ],
          "name": "stderr"
        },
        {
          "output_type": "execute_result",
          "data": {
            "text/plain": [
              "Pipeline(memory=None,\n",
              "         steps=[('vect',\n",
              "                 CountVectorizer(analyzer=<function processTextMorph at 0x7f4bfdd0ab00>,\n",
              "                                 binary=False, decode_error='strict',\n",
              "                                 dtype=<class 'numpy.int64'>, encoding='utf-8',\n",
              "                                 input='content', lowercase=True, max_df=1.0,\n",
              "                                 max_features=None, min_df=1,\n",
              "                                 ngram_range=(1, 1), preprocessor=None,\n",
              "                                 stop_words=None, strip_accents=None,\n",
              "                                 token_pattern='(?u)\\\\b\\\\w\\\\w+\\\\b',\n",
              "                                 tokenizer=None, vocabulary=None)),\n",
              "                ('clf',\n",
              "                 LogisticRegression(C=1.0, class_weight=None, dual=False,\n",
              "                                    fit_intercept=True, intercept_scaling=1,\n",
              "                                    l1_ratio=None, max_iter=100,\n",
              "                                    multi_class='auto', n_jobs=None,\n",
              "                                    penalty='l2', random_state=None,\n",
              "                                    solver='lbfgs', tol=0.0001, verbose=0,\n",
              "                                    warm_start=False))],\n",
              "         verbose=False)"
            ]
          },
          "metadata": {
            "tags": []
          },
          "execution_count": 85
        }
      ]
    },
    {
      "cell_type": "markdown",
      "metadata": {
        "id": "GVRLLDaiJqyQ"
      },
      "source": [
        "Make predictions"
      ]
    },
    {
      "cell_type": "code",
      "metadata": {
        "colab": {
          "base_uri": "https://localhost:8080/"
        },
        "id": "YAgyuzBwopBQ",
        "outputId": "4a23d7a2-cb38-492e-b3fb-8b7098e09a40"
      },
      "source": [
        "predicted_morph = text_clf_Morph.predict(x_dev)\n",
        "predicted_morph"
      ],
      "execution_count": null,
      "outputs": [
        {
          "output_type": "execute_result",
          "data": {
            "text/plain": [
              "array(['positive', 'positive', 'negative', ..., 'negative', 'negative',\n",
              "       'positive'], dtype=object)"
            ]
          },
          "metadata": {
            "tags": []
          },
          "execution_count": 86
        }
      ]
    },
    {
      "cell_type": "code",
      "metadata": {
        "colab": {
          "base_uri": "https://localhost:8080/",
          "height": 329
        },
        "id": "YOslhqy3opEE",
        "outputId": "6f7cb4e5-88d2-4fa4-ffb4-8e9c48c19989"
      },
      "source": [
        "from sklearn import metrics\n",
        "morphologyAccuracy = metrics.accuracy_score(y_dev, predicted_morph)\n",
        "morphologyPercision = metrics.precision_score(y_dev, predicted_morph, average = None)\n",
        "morphologyRecall = metrics.recall_score(y_dev, predicted_morph, average = None)\n",
        "morphologyf1 = metrics.f1_score(y_dev, predicted_morph, average = None)\n",
        "print(\"Accuracy:\", morphologyAccuracy)\n",
        "\n",
        "print(metrics.classification_report(y_dev, predicted_morph, target_names=target_names))\n",
        "\n",
        "# confusion class\n",
        "pd.DataFrame(metrics.confusion_matrix(y_dev, predicted_morph), columns=target_names, index=target_names)"
      ],
      "execution_count": null,
      "outputs": [
        {
          "output_type": "stream",
          "text": [
            "Accuracy: 0.7814871016691958\n",
            "              precision    recall  f1-score   support\n",
            "\n",
            "    negative       0.83      0.89      0.86       826\n",
            "     neutral       0.61      0.56      0.59       279\n",
            "    positive       0.76      0.66      0.71       213\n",
            "\n",
            "    accuracy                           0.78      1318\n",
            "   macro avg       0.74      0.70      0.72      1318\n",
            "weighted avg       0.78      0.78      0.78      1318\n",
            "\n"
          ],
          "name": "stdout"
        },
        {
          "output_type": "execute_result",
          "data": {
            "text/html": [
              "<div>\n",
              "<style scoped>\n",
              "    .dataframe tbody tr th:only-of-type {\n",
              "        vertical-align: middle;\n",
              "    }\n",
              "\n",
              "    .dataframe tbody tr th {\n",
              "        vertical-align: top;\n",
              "    }\n",
              "\n",
              "    .dataframe thead th {\n",
              "        text-align: right;\n",
              "    }\n",
              "</style>\n",
              "<table border=\"1\" class=\"dataframe\">\n",
              "  <thead>\n",
              "    <tr style=\"text-align: right;\">\n",
              "      <th></th>\n",
              "      <th>negative</th>\n",
              "      <th>neutral</th>\n",
              "      <th>positive</th>\n",
              "    </tr>\n",
              "  </thead>\n",
              "  <tbody>\n",
              "    <tr>\n",
              "      <th>negative</th>\n",
              "      <td>732</td>\n",
              "      <td>70</td>\n",
              "      <td>24</td>\n",
              "    </tr>\n",
              "    <tr>\n",
              "      <th>neutral</th>\n",
              "      <td>102</td>\n",
              "      <td>157</td>\n",
              "      <td>20</td>\n",
              "    </tr>\n",
              "    <tr>\n",
              "      <th>positive</th>\n",
              "      <td>43</td>\n",
              "      <td>29</td>\n",
              "      <td>141</td>\n",
              "    </tr>\n",
              "  </tbody>\n",
              "</table>\n",
              "</div>"
            ],
            "text/plain": [
              "          negative  neutral  positive\n",
              "negative       732       70        24\n",
              "neutral        102      157        20\n",
              "positive        43       29       141"
            ]
          },
          "metadata": {
            "tags": []
          },
          "execution_count": 87
        }
      ]
    },
    {
      "cell_type": "code",
      "metadata": {
        "colab": {
          "base_uri": "https://localhost:8080/",
          "height": 419
        },
        "id": "HsG5ldOrojca",
        "outputId": "714d7699-7d64-437f-f28e-0c823c3e54e1"
      },
      "source": [
        "df_pred_morph = pd.DataFrame({'news':x_dev, 'prediction':predicted_morph, 'true':y_dev})\n",
        "df_pred_morph[df_pred_morph['true'] != df_pred_morph['prediction']]"
      ],
      "execution_count": null,
      "outputs": [
        {
          "output_type": "execute_result",
          "data": {
            "text/html": [
              "<div>\n",
              "<style scoped>\n",
              "    .dataframe tbody tr th:only-of-type {\n",
              "        vertical-align: middle;\n",
              "    }\n",
              "\n",
              "    .dataframe tbody tr th {\n",
              "        vertical-align: top;\n",
              "    }\n",
              "\n",
              "    .dataframe thead th {\n",
              "        text-align: right;\n",
              "    }\n",
              "</style>\n",
              "<table border=\"1\" class=\"dataframe\">\n",
              "  <thead>\n",
              "    <tr style=\"text-align: right;\">\n",
              "      <th></th>\n",
              "      <th>news</th>\n",
              "      <th>prediction</th>\n",
              "      <th>true</th>\n",
              "    </tr>\n",
              "  </thead>\n",
              "  <tbody>\n",
              "    <tr>\n",
              "      <th>7</th>\n",
              "      <td>@JetBlue, flights 1970, 1366, and 1552 will fl...</td>\n",
              "      <td>negative</td>\n",
              "      <td>neutral</td>\n",
              "    </tr>\n",
              "    <tr>\n",
              "      <th>12</th>\n",
              "      <td>@USAirways, I know you're dealing with the wea...</td>\n",
              "      <td>neutral</td>\n",
              "      <td>negative</td>\n",
              "    </tr>\n",
              "    <tr>\n",
              "      <th>19</th>\n",
              "      <td>@SouthwestAir Why doesn't mean TSA PreCheck sh...</td>\n",
              "      <td>neutral</td>\n",
              "      <td>negative</td>\n",
              "    </tr>\n",
              "    <tr>\n",
              "      <th>27</th>\n",
              "      <td>@AmericanAir I was happy to purchase the upgra...</td>\n",
              "      <td>positive</td>\n",
              "      <td>negative</td>\n",
              "    </tr>\n",
              "    <tr>\n",
              "      <th>31</th>\n",
              "      <td>@JetBlue be flying soon to NYC on your airline...</td>\n",
              "      <td>negative</td>\n",
              "      <td>positive</td>\n",
              "    </tr>\n",
              "    <tr>\n",
              "      <th>...</th>\n",
              "      <td>...</td>\n",
              "      <td>...</td>\n",
              "      <td>...</td>\n",
              "    </tr>\n",
              "    <tr>\n",
              "      <th>1301</th>\n",
              "      <td>@JetBlue will I be compensated for delays or C...</td>\n",
              "      <td>negative</td>\n",
              "      <td>neutral</td>\n",
              "    </tr>\n",
              "    <tr>\n",
              "      <th>1302</th>\n",
              "      <td>@usairways  Thank you for allowing me to spend...</td>\n",
              "      <td>positive</td>\n",
              "      <td>negative</td>\n",
              "    </tr>\n",
              "    <tr>\n",
              "      <th>1303</th>\n",
              "      <td>@united there is a sector whereby it says $0 i...</td>\n",
              "      <td>negative</td>\n",
              "      <td>neutral</td>\n",
              "    </tr>\n",
              "    <tr>\n",
              "      <th>1307</th>\n",
              "      <td>@JetBlue have a cpap machine for sleep apnea. ...</td>\n",
              "      <td>negative</td>\n",
              "      <td>neutral</td>\n",
              "    </tr>\n",
              "    <tr>\n",
              "      <th>1311</th>\n",
              "      <td>@USAirways thank you, but it says the website ...</td>\n",
              "      <td>positive</td>\n",
              "      <td>neutral</td>\n",
              "    </tr>\n",
              "  </tbody>\n",
              "</table>\n",
              "<p>288 rows × 3 columns</p>\n",
              "</div>"
            ],
            "text/plain": [
              "                                                   news prediction      true\n",
              "7     @JetBlue, flights 1970, 1366, and 1552 will fl...   negative   neutral\n",
              "12    @USAirways, I know you're dealing with the wea...    neutral  negative\n",
              "19    @SouthwestAir Why doesn't mean TSA PreCheck sh...    neutral  negative\n",
              "27    @AmericanAir I was happy to purchase the upgra...   positive  negative\n",
              "31    @JetBlue be flying soon to NYC on your airline...   negative  positive\n",
              "...                                                 ...        ...       ...\n",
              "1301  @JetBlue will I be compensated for delays or C...   negative   neutral\n",
              "1302  @usairways  Thank you for allowing me to spend...   positive  negative\n",
              "1303  @united there is a sector whereby it says $0 i...   negative   neutral\n",
              "1307  @JetBlue have a cpap machine for sleep apnea. ...   negative   neutral\n",
              "1311  @USAirways thank you, but it says the website ...   positive   neutral\n",
              "\n",
              "[288 rows x 3 columns]"
            ]
          },
          "metadata": {
            "tags": []
          },
          "execution_count": 88
        }
      ]
    },
    {
      "cell_type": "markdown",
      "metadata": {
        "id": "LkntEkLzD4VD"
      },
      "source": [
        "# **Lexicon Processing**"
      ]
    },
    {
      "cell_type": "code",
      "metadata": {
        "id": "EgDojGZjD3Z6"
      },
      "source": [
        "def processTextLexi(text, lemma=False, gram=1, rmStop=True): # default remove stop words\n",
        "    text = re.sub(r'(https|http)?:\\/\\/(\\w|\\.|\\/|\\?|\\=|\\&|\\%)*\\b|@\\w+|#', '', text, flags=re.MULTILINE)\n",
        "    tokens = word_tokenize(text)\n",
        "    whitelist = [\"n't\", \"not\", \"no\"]\n",
        "    new_tokens = []\n",
        "    stoplist = stopwordEn if rmStop else []\n",
        "    for i in tokens:\n",
        "        i = i.lower()\n",
        "        if i.isalpha() and (i not in stoplist or i in whitelist): \n",
        "            if lemma: i = lemmaWord(i)\n",
        "            new_tokens.append(i)\n",
        "    del tokens\n",
        "\n",
        "    if gram<=1:\n",
        "        return new_tokens\n",
        "    else:\n",
        "        return [' '.join(i) for i in nltk.ngrams(new_tokens, gram)]"
      ],
      "execution_count": null,
      "outputs": []
    },
    {
      "cell_type": "code",
      "metadata": {
        "colab": {
          "base_uri": "https://localhost:8080/"
        },
        "id": "3dsR_h72Kuaq",
        "outputId": "eb74057b-7753-4ae7-8dbf-d39960848b03"
      },
      "source": [
        "print(x_dev[5])\n",
        "print(processTextLexi(x_dev[5]))"
      ],
      "execution_count": null,
      "outputs": [
        {
          "output_type": "stream",
          "text": [
            "@united common!! keep your paper work ready and don't delay our flights(#1585)and meetings @ChooseChicago\n",
            "['common', 'keep', 'paper', 'work', 'ready', 'delay', 'flights', 'meetings']\n"
          ],
          "name": "stdout"
        }
      ]
    },
    {
      "cell_type": "code",
      "metadata": {
        "id": "PDKnD0uh5u0D"
      },
      "source": [
        "# Level: lexicon, model: tf-idf\n",
        "text_clf_lexi = Pipeline([\n",
        "    # add your code about text processing           \n",
        "    ('vect', CountVectorizer(analyzer=processTextLexi)), \n",
        "    ('tfidf', TfidfTransformer(use_idf=True)),\n",
        "\n",
        "    # change your classifier here, search: sklearn logistic regression example  \n",
        "    ('clf', LogisticRegression())\n",
        "])"
      ],
      "execution_count": null,
      "outputs": []
    },
    {
      "cell_type": "code",
      "metadata": {
        "id": "uPTu6krR9y0H"
      },
      "source": [
        ""
      ],
      "execution_count": null,
      "outputs": []
    },
    {
      "cell_type": "code",
      "metadata": {
        "id": "j8oLbG8BpkHw",
        "colab": {
          "base_uri": "https://localhost:8080/"
        },
        "outputId": "fd9b2d57-a9d6-43e3-96b4-4e393ff4c696"
      },
      "source": [
        "text_clf_lexi.fit(x_train, y_train)"
      ],
      "execution_count": null,
      "outputs": [
        {
          "output_type": "stream",
          "text": [
            "/usr/local/lib/python3.7/dist-packages/sklearn/linear_model/_logistic.py:940: ConvergenceWarning: lbfgs failed to converge (status=1):\n",
            "STOP: TOTAL NO. of ITERATIONS REACHED LIMIT.\n",
            "\n",
            "Increase the number of iterations (max_iter) or scale the data as shown in:\n",
            "    https://scikit-learn.org/stable/modules/preprocessing.html\n",
            "Please also refer to the documentation for alternative solver options:\n",
            "    https://scikit-learn.org/stable/modules/linear_model.html#logistic-regression\n",
            "  extra_warning_msg=_LOGISTIC_SOLVER_CONVERGENCE_MSG)\n"
          ],
          "name": "stderr"
        },
        {
          "output_type": "execute_result",
          "data": {
            "text/plain": [
              "Pipeline(memory=None,\n",
              "         steps=[('vect',\n",
              "                 CountVectorizer(analyzer=<function processTextLexi at 0x7f4bee51f200>,\n",
              "                                 binary=False, decode_error='strict',\n",
              "                                 dtype=<class 'numpy.int64'>, encoding='utf-8',\n",
              "                                 input='content', lowercase=True, max_df=1.0,\n",
              "                                 max_features=None, min_df=1,\n",
              "                                 ngram_range=(1, 1), preprocessor=None,\n",
              "                                 stop_words=None, strip_accents=None,\n",
              "                                 token_pattern='(?u)\\\\b\\\\w\\\\w...\n",
              "                                 tokenizer=None, vocabulary=None)),\n",
              "                ('tfidf',\n",
              "                 TfidfTransformer(norm='l2', smooth_idf=True,\n",
              "                                  sublinear_tf=False, use_idf=True)),\n",
              "                ('clf',\n",
              "                 LogisticRegression(C=1.0, class_weight=None, dual=False,\n",
              "                                    fit_intercept=True, intercept_scaling=1,\n",
              "                                    l1_ratio=None, max_iter=100,\n",
              "                                    multi_class='auto', n_jobs=None,\n",
              "                                    penalty='l2', random_state=None,\n",
              "                                    solver='lbfgs', tol=0.0001, verbose=0,\n",
              "                                    warm_start=False))],\n",
              "         verbose=False)"
            ]
          },
          "metadata": {
            "tags": []
          },
          "execution_count": 92
        }
      ]
    },
    {
      "cell_type": "code",
      "metadata": {
        "id": "g4ewt2nvpkKU",
        "colab": {
          "base_uri": "https://localhost:8080/"
        },
        "outputId": "66bf435f-5b54-4bfe-b6b8-61a3120317d6"
      },
      "source": [
        "predicted_lexi = text_clf_lexi.predict(x_dev)\n",
        "predicted_lexi"
      ],
      "execution_count": null,
      "outputs": [
        {
          "output_type": "execute_result",
          "data": {
            "text/plain": [
              "array(['positive', 'positive', 'negative', ..., 'negative', 'negative',\n",
              "       'positive'], dtype=object)"
            ]
          },
          "metadata": {
            "tags": []
          },
          "execution_count": 93
        }
      ]
    },
    {
      "cell_type": "code",
      "metadata": {
        "colab": {
          "base_uri": "https://localhost:8080/",
          "height": 329
        },
        "id": "J-2cBjQ5upRK",
        "outputId": "9223e14a-217b-4295-f027-d248f58144c4"
      },
      "source": [
        "# To evaluate your prediction on dev set1\n",
        "from sklearn import metrics\n",
        "lexiconAccuracy = metrics.accuracy_score(y_dev, predicted_lexi)\n",
        "lexiconPercision = metrics.precision_score(y_dev, predicted_lexi, average = None)\n",
        "lexiconRecall = metrics.recall_score(y_dev, predicted_lexi, average = None)\n",
        "lexiconf1 = metrics.f1_score(y_dev, predicted_lexi, average = None)\n",
        "print(\"Accuracy:\", lexiconAccuracy)\n",
        "\n",
        "print(metrics.classification_report(y_dev, predicted_lexi, target_names=target_names))\n",
        "\n",
        "# confusion class\n",
        "pd.DataFrame(metrics.confusion_matrix(y_dev, predicted_lexi), columns=target_names, index=target_names)"
      ],
      "execution_count": null,
      "outputs": [
        {
          "output_type": "stream",
          "text": [
            "Accuracy: 0.776176024279211\n",
            "              precision    recall  f1-score   support\n",
            "\n",
            "    negative       0.79      0.94      0.86       826\n",
            "     neutral       0.65      0.45      0.53       279\n",
            "    positive       0.83      0.58      0.68       213\n",
            "\n",
            "    accuracy                           0.78      1318\n",
            "   macro avg       0.76      0.66      0.69      1318\n",
            "weighted avg       0.77      0.78      0.76      1318\n",
            "\n"
          ],
          "name": "stdout"
        },
        {
          "output_type": "execute_result",
          "data": {
            "text/html": [
              "<div>\n",
              "<style scoped>\n",
              "    .dataframe tbody tr th:only-of-type {\n",
              "        vertical-align: middle;\n",
              "    }\n",
              "\n",
              "    .dataframe tbody tr th {\n",
              "        vertical-align: top;\n",
              "    }\n",
              "\n",
              "    .dataframe thead th {\n",
              "        text-align: right;\n",
              "    }\n",
              "</style>\n",
              "<table border=\"1\" class=\"dataframe\">\n",
              "  <thead>\n",
              "    <tr style=\"text-align: right;\">\n",
              "      <th></th>\n",
              "      <th>negative</th>\n",
              "      <th>neutral</th>\n",
              "      <th>positive</th>\n",
              "    </tr>\n",
              "  </thead>\n",
              "  <tbody>\n",
              "    <tr>\n",
              "      <th>negative</th>\n",
              "      <td>773</td>\n",
              "      <td>40</td>\n",
              "      <td>13</td>\n",
              "    </tr>\n",
              "    <tr>\n",
              "      <th>neutral</th>\n",
              "      <td>140</td>\n",
              "      <td>126</td>\n",
              "      <td>13</td>\n",
              "    </tr>\n",
              "    <tr>\n",
              "      <th>positive</th>\n",
              "      <td>62</td>\n",
              "      <td>27</td>\n",
              "      <td>124</td>\n",
              "    </tr>\n",
              "  </tbody>\n",
              "</table>\n",
              "</div>"
            ],
            "text/plain": [
              "          negative  neutral  positive\n",
              "negative       773       40        13\n",
              "neutral        140      126        13\n",
              "positive        62       27       124"
            ]
          },
          "metadata": {
            "tags": []
          },
          "execution_count": 94
        }
      ]
    },
    {
      "cell_type": "code",
      "metadata": {
        "colab": {
          "base_uri": "https://localhost:8080/",
          "height": 419
        },
        "id": "9ZUtrKAIEvL5",
        "outputId": "cfbb98ad-5b85-4617-aed2-891e728f9e25"
      },
      "source": [
        "df_pred_lexi = pd.DataFrame({'news':x_dev, 'prediction':predicted_lexi, 'true':y_dev})\n",
        "df_pred_lexi[df_pred_lexi['true'] != df_pred_lexi['prediction']]"
      ],
      "execution_count": null,
      "outputs": [
        {
          "output_type": "execute_result",
          "data": {
            "text/html": [
              "<div>\n",
              "<style scoped>\n",
              "    .dataframe tbody tr th:only-of-type {\n",
              "        vertical-align: middle;\n",
              "    }\n",
              "\n",
              "    .dataframe tbody tr th {\n",
              "        vertical-align: top;\n",
              "    }\n",
              "\n",
              "    .dataframe thead th {\n",
              "        text-align: right;\n",
              "    }\n",
              "</style>\n",
              "<table border=\"1\" class=\"dataframe\">\n",
              "  <thead>\n",
              "    <tr style=\"text-align: right;\">\n",
              "      <th></th>\n",
              "      <th>news</th>\n",
              "      <th>prediction</th>\n",
              "      <th>true</th>\n",
              "    </tr>\n",
              "  </thead>\n",
              "  <tbody>\n",
              "    <tr>\n",
              "      <th>7</th>\n",
              "      <td>@JetBlue, flights 1970, 1366, and 1552 will fl...</td>\n",
              "      <td>negative</td>\n",
              "      <td>neutral</td>\n",
              "    </tr>\n",
              "    <tr>\n",
              "      <th>12</th>\n",
              "      <td>@USAirways, I know you're dealing with the wea...</td>\n",
              "      <td>neutral</td>\n",
              "      <td>negative</td>\n",
              "    </tr>\n",
              "    <tr>\n",
              "      <th>19</th>\n",
              "      <td>@SouthwestAir Why doesn't mean TSA PreCheck sh...</td>\n",
              "      <td>neutral</td>\n",
              "      <td>negative</td>\n",
              "    </tr>\n",
              "    <tr>\n",
              "      <th>22</th>\n",
              "      <td>@SouthwestAir Free TV watching Daytona 500! #B...</td>\n",
              "      <td>negative</td>\n",
              "      <td>neutral</td>\n",
              "    </tr>\n",
              "    <tr>\n",
              "      <th>27</th>\n",
              "      <td>@AmericanAir I was happy to purchase the upgra...</td>\n",
              "      <td>positive</td>\n",
              "      <td>negative</td>\n",
              "    </tr>\n",
              "    <tr>\n",
              "      <th>...</th>\n",
              "      <td>...</td>\n",
              "      <td>...</td>\n",
              "      <td>...</td>\n",
              "    </tr>\n",
              "    <tr>\n",
              "      <th>1298</th>\n",
              "      <td>@united we finally just arrive to Bogota, good...</td>\n",
              "      <td>negative</td>\n",
              "      <td>neutral</td>\n",
              "    </tr>\n",
              "    <tr>\n",
              "      <th>1301</th>\n",
              "      <td>@JetBlue will I be compensated for delays or C...</td>\n",
              "      <td>negative</td>\n",
              "      <td>neutral</td>\n",
              "    </tr>\n",
              "    <tr>\n",
              "      <th>1303</th>\n",
              "      <td>@united there is a sector whereby it says $0 i...</td>\n",
              "      <td>negative</td>\n",
              "      <td>neutral</td>\n",
              "    </tr>\n",
              "    <tr>\n",
              "      <th>1307</th>\n",
              "      <td>@JetBlue have a cpap machine for sleep apnea. ...</td>\n",
              "      <td>negative</td>\n",
              "      <td>neutral</td>\n",
              "    </tr>\n",
              "    <tr>\n",
              "      <th>1311</th>\n",
              "      <td>@USAirways thank you, but it says the website ...</td>\n",
              "      <td>negative</td>\n",
              "      <td>neutral</td>\n",
              "    </tr>\n",
              "  </tbody>\n",
              "</table>\n",
              "<p>295 rows × 3 columns</p>\n",
              "</div>"
            ],
            "text/plain": [
              "                                                   news prediction      true\n",
              "7     @JetBlue, flights 1970, 1366, and 1552 will fl...   negative   neutral\n",
              "12    @USAirways, I know you're dealing with the wea...    neutral  negative\n",
              "19    @SouthwestAir Why doesn't mean TSA PreCheck sh...    neutral  negative\n",
              "22    @SouthwestAir Free TV watching Daytona 500! #B...   negative   neutral\n",
              "27    @AmericanAir I was happy to purchase the upgra...   positive  negative\n",
              "...                                                 ...        ...       ...\n",
              "1298  @united we finally just arrive to Bogota, good...   negative   neutral\n",
              "1301  @JetBlue will I be compensated for delays or C...   negative   neutral\n",
              "1303  @united there is a sector whereby it says $0 i...   negative   neutral\n",
              "1307  @JetBlue have a cpap machine for sleep apnea. ...   negative   neutral\n",
              "1311  @USAirways thank you, but it says the website ...   negative   neutral\n",
              "\n",
              "[295 rows x 3 columns]"
            ]
          },
          "metadata": {
            "tags": []
          },
          "execution_count": 95
        }
      ]
    },
    {
      "cell_type": "markdown",
      "metadata": {
        "id": "s0hIt0-xEwmq"
      },
      "source": [
        "# **Syntax Processing**"
      ]
    },
    {
      "cell_type": "code",
      "metadata": {
        "id": "v8hBkXY1FKCy"
      },
      "source": [
        "def processTextSyntax(text, lemma=False, gram=1, rmStop=True):\n",
        "    text = re.sub(r'(https|http)?:\\/\\/(\\w|\\.|\\/|\\?|\\=|\\&|\\%)*\\b|@\\w+|', '', text, flags=re.MULTILINE)\n",
        "    token = word_tokenize(text)\n",
        "    whitelist = [\"n't\", \"not\", \"no\"]  \n",
        "    token = [l.lower() for l in token]\n",
        "    \n",
        "    stoplist = stopwordEn if rmStop else []\n",
        "    new_tokens = []\n",
        "\n",
        "    for i in token:\n",
        "        i = i.lower()\n",
        "        if i.isalpha() and (i not in stoplist or i in whitelist):\n",
        "            if lemma: i = lemmaWord(i)\n",
        "            new_tokens.append(i)\n",
        "    del token\n",
        "    train_tags = nltk.pos_tag(new_tokens)\n",
        "    return [i[1] for i in train_tags]#, new_tokens"
      ],
      "execution_count": null,
      "outputs": []
    },
    {
      "cell_type": "code",
      "metadata": {
        "colab": {
          "base_uri": "https://localhost:8080/"
        },
        "id": "OvXxNV5kFu90",
        "outputId": "b55c85b0-1e8f-4a47-d4e9-63cfbbb83da5"
      },
      "source": [
        "print(x_dev[5])\n",
        "print(processTextSyntax(x_dev[5]))"
      ],
      "execution_count": null,
      "outputs": [
        {
          "output_type": "stream",
          "text": [
            "@united common!! keep your paper work ready and don't delay our flights(#1585)and meetings @ChooseChicago\n",
            "['JJ', 'VB', 'NN', 'NN', 'JJ', 'NN', 'NNS', 'NNS']\n"
          ],
          "name": "stdout"
        }
      ]
    },
    {
      "cell_type": "code",
      "metadata": {
        "id": "9Em4LvVTEvOd"
      },
      "source": [
        "# Level: Syntax, model: tf-idf\n",
        "text_clf_syntax = Pipeline([\n",
        "    # add your code about text processing           \n",
        "    ('vect', CountVectorizer(analyzer=processTextSyntax)), \n",
        "    # ('tfidf', TfidfTransformer(use_idf=True)),\n",
        "\n",
        "    # change your classifier here, search: sklearn logistic regression example  \n",
        "    ('clf', LogisticRegression()) \n",
        "])"
      ],
      "execution_count": null,
      "outputs": []
    },
    {
      "cell_type": "code",
      "metadata": {
        "colab": {
          "base_uri": "https://localhost:8080/"
        },
        "id": "5E9RkwxtEvRl",
        "outputId": "39235192-1ab4-470c-b465-0f5533d844d7"
      },
      "source": [
        "text_clf_syntax.fit(x_train, y_train)"
      ],
      "execution_count": null,
      "outputs": [
        {
          "output_type": "stream",
          "text": [
            "/usr/local/lib/python3.7/dist-packages/sklearn/linear_model/_logistic.py:940: ConvergenceWarning: lbfgs failed to converge (status=1):\n",
            "STOP: TOTAL NO. of ITERATIONS REACHED LIMIT.\n",
            "\n",
            "Increase the number of iterations (max_iter) or scale the data as shown in:\n",
            "    https://scikit-learn.org/stable/modules/preprocessing.html\n",
            "Please also refer to the documentation for alternative solver options:\n",
            "    https://scikit-learn.org/stable/modules/linear_model.html#logistic-regression\n",
            "  extra_warning_msg=_LOGISTIC_SOLVER_CONVERGENCE_MSG)\n"
          ],
          "name": "stderr"
        },
        {
          "output_type": "execute_result",
          "data": {
            "text/plain": [
              "Pipeline(memory=None,\n",
              "         steps=[('vect',\n",
              "                 CountVectorizer(analyzer=<function processTextSyntax at 0x7f4bee616680>,\n",
              "                                 binary=False, decode_error='strict',\n",
              "                                 dtype=<class 'numpy.int64'>, encoding='utf-8',\n",
              "                                 input='content', lowercase=True, max_df=1.0,\n",
              "                                 max_features=None, min_df=1,\n",
              "                                 ngram_range=(1, 1), preprocessor=None,\n",
              "                                 stop_words=None, strip_accents=None,\n",
              "                                 token_pattern='(?u)\\\\b\\\\w\\\\w+\\\\b',\n",
              "                                 tokenizer=None, vocabulary=None)),\n",
              "                ('clf',\n",
              "                 LogisticRegression(C=1.0, class_weight=None, dual=False,\n",
              "                                    fit_intercept=True, intercept_scaling=1,\n",
              "                                    l1_ratio=None, max_iter=100,\n",
              "                                    multi_class='auto', n_jobs=None,\n",
              "                                    penalty='l2', random_state=None,\n",
              "                                    solver='lbfgs', tol=0.0001, verbose=0,\n",
              "                                    warm_start=False))],\n",
              "         verbose=False)"
            ]
          },
          "metadata": {
            "tags": []
          },
          "execution_count": 99
        }
      ]
    },
    {
      "cell_type": "code",
      "metadata": {
        "colab": {
          "base_uri": "https://localhost:8080/"
        },
        "id": "bQX3D5OGEvTS",
        "outputId": "4dbd443e-0c21-4ff9-e3c9-e6f99da8da4f"
      },
      "source": [
        "predicted_syntax = text_clf_syntax.predict(x_dev)\n",
        "predicted_syntax"
      ],
      "execution_count": null,
      "outputs": [
        {
          "output_type": "execute_result",
          "data": {
            "text/plain": [
              "array(['negative', 'negative', 'negative', ..., 'negative', 'negative',\n",
              "       'neutral'], dtype=object)"
            ]
          },
          "metadata": {
            "tags": []
          },
          "execution_count": 100
        }
      ]
    },
    {
      "cell_type": "code",
      "metadata": {
        "colab": {
          "base_uri": "https://localhost:8080/",
          "height": 329
        },
        "id": "glPEIr6AEvV8",
        "outputId": "2cf2a53b-ef9e-4be5-a007-35e92d2d5704"
      },
      "source": [
        "from sklearn import metrics\n",
        "syntaxAccuracy = metrics.accuracy_score(y_dev, predicted_syntax)\n",
        "syntaxRecall = metrics.recall_score(y_dev, predicted_syntax, average = None)\n",
        "syntaxf1 = metrics.f1_score(y_dev, predicted_syntax, average = None)\n",
        "syntaxPercision = metrics.precision_score(y_dev, predicted_syntax, average = None)\n",
        "print(\"Accuracy:\", syntaxAccuracy)\n",
        "\n",
        "print(metrics.classification_report(y_dev, predicted_syntax, target_names=target_names))\n",
        "\n",
        "# confusion class\n",
        "pd.DataFrame(metrics.confusion_matrix(y_dev, predicted_syntax), columns=target_names, index=target_names)"
      ],
      "execution_count": null,
      "outputs": [
        {
          "output_type": "stream",
          "text": [
            "Accuracy: 0.6479514415781487\n",
            "              precision    recall  f1-score   support\n",
            "\n",
            "    negative       0.69      0.93      0.79       826\n",
            "     neutral       0.40      0.28      0.33       279\n",
            "    positive       0.57      0.04      0.07       213\n",
            "\n",
            "    accuracy                           0.65      1318\n",
            "   macro avg       0.56      0.42      0.40      1318\n",
            "weighted avg       0.61      0.65      0.58      1318\n",
            "\n"
          ],
          "name": "stdout"
        },
        {
          "output_type": "execute_result",
          "data": {
            "text/html": [
              "<div>\n",
              "<style scoped>\n",
              "    .dataframe tbody tr th:only-of-type {\n",
              "        vertical-align: middle;\n",
              "    }\n",
              "\n",
              "    .dataframe tbody tr th {\n",
              "        vertical-align: top;\n",
              "    }\n",
              "\n",
              "    .dataframe thead th {\n",
              "        text-align: right;\n",
              "    }\n",
              "</style>\n",
              "<table border=\"1\" class=\"dataframe\">\n",
              "  <thead>\n",
              "    <tr style=\"text-align: right;\">\n",
              "      <th></th>\n",
              "      <th>negative</th>\n",
              "      <th>neutral</th>\n",
              "      <th>positive</th>\n",
              "    </tr>\n",
              "  </thead>\n",
              "  <tbody>\n",
              "    <tr>\n",
              "      <th>negative</th>\n",
              "      <td>768</td>\n",
              "      <td>54</td>\n",
              "      <td>4</td>\n",
              "    </tr>\n",
              "    <tr>\n",
              "      <th>neutral</th>\n",
              "      <td>199</td>\n",
              "      <td>78</td>\n",
              "      <td>2</td>\n",
              "    </tr>\n",
              "    <tr>\n",
              "      <th>positive</th>\n",
              "      <td>143</td>\n",
              "      <td>62</td>\n",
              "      <td>8</td>\n",
              "    </tr>\n",
              "  </tbody>\n",
              "</table>\n",
              "</div>"
            ],
            "text/plain": [
              "          negative  neutral  positive\n",
              "negative       768       54         4\n",
              "neutral        199       78         2\n",
              "positive       143       62         8"
            ]
          },
          "metadata": {
            "tags": []
          },
          "execution_count": 101
        }
      ]
    },
    {
      "cell_type": "code",
      "metadata": {
        "colab": {
          "base_uri": "https://localhost:8080/",
          "height": 419
        },
        "id": "7xeQcAHvFzCs",
        "outputId": "73aae2d7-d505-462b-a4e4-014732ea4295"
      },
      "source": [
        "df_pred_syntax = pd.DataFrame({'news':x_dev, 'prediction':predicted_syntax, 'true':y_dev})\n",
        "df_pred_syntax[df_pred_syntax['true'] != df_pred_syntax['prediction']]"
      ],
      "execution_count": null,
      "outputs": [
        {
          "output_type": "execute_result",
          "data": {
            "text/html": [
              "<div>\n",
              "<style scoped>\n",
              "    .dataframe tbody tr th:only-of-type {\n",
              "        vertical-align: middle;\n",
              "    }\n",
              "\n",
              "    .dataframe tbody tr th {\n",
              "        vertical-align: top;\n",
              "    }\n",
              "\n",
              "    .dataframe thead th {\n",
              "        text-align: right;\n",
              "    }\n",
              "</style>\n",
              "<table border=\"1\" class=\"dataframe\">\n",
              "  <thead>\n",
              "    <tr style=\"text-align: right;\">\n",
              "      <th></th>\n",
              "      <th>news</th>\n",
              "      <th>prediction</th>\n",
              "      <th>true</th>\n",
              "    </tr>\n",
              "  </thead>\n",
              "  <tbody>\n",
              "    <tr>\n",
              "      <th>0</th>\n",
              "      <td>@southwestair Great job celebrating #MardiGras...</td>\n",
              "      <td>negative</td>\n",
              "      <td>positive</td>\n",
              "    </tr>\n",
              "    <tr>\n",
              "      <th>1</th>\n",
              "      <td>@southwestair thanks for taking it up a notch!...</td>\n",
              "      <td>negative</td>\n",
              "      <td>positive</td>\n",
              "    </tr>\n",
              "    <tr>\n",
              "      <th>3</th>\n",
              "      <td>@united Thank you for your offer! All sorted o...</td>\n",
              "      <td>neutral</td>\n",
              "      <td>positive</td>\n",
              "    </tr>\n",
              "    <tr>\n",
              "      <th>4</th>\n",
              "      <td>@JetBlue wondering if it's possible for my col...</td>\n",
              "      <td>negative</td>\n",
              "      <td>neutral</td>\n",
              "    </tr>\n",
              "    <tr>\n",
              "      <th>7</th>\n",
              "      <td>@JetBlue, flights 1970, 1366, and 1552 will fl...</td>\n",
              "      <td>negative</td>\n",
              "      <td>neutral</td>\n",
              "    </tr>\n",
              "    <tr>\n",
              "      <th>...</th>\n",
              "      <td>...</td>\n",
              "      <td>...</td>\n",
              "      <td>...</td>\n",
              "    </tr>\n",
              "    <tr>\n",
              "      <th>1303</th>\n",
              "      <td>@united there is a sector whereby it says $0 i...</td>\n",
              "      <td>negative</td>\n",
              "      <td>neutral</td>\n",
              "    </tr>\n",
              "    <tr>\n",
              "      <th>1307</th>\n",
              "      <td>@JetBlue have a cpap machine for sleep apnea. ...</td>\n",
              "      <td>negative</td>\n",
              "      <td>neutral</td>\n",
              "    </tr>\n",
              "    <tr>\n",
              "      <th>1308</th>\n",
              "      <td>@united or you'll Cancelled Flight my flight l...</td>\n",
              "      <td>neutral</td>\n",
              "      <td>negative</td>\n",
              "    </tr>\n",
              "    <tr>\n",
              "      <th>1312</th>\n",
              "      <td>@AmericanAir well we cleared customs in AUH. I...</td>\n",
              "      <td>negative</td>\n",
              "      <td>neutral</td>\n",
              "    </tr>\n",
              "    <tr>\n",
              "      <th>1317</th>\n",
              "      <td>@SouthwestAir thank you :)</td>\n",
              "      <td>neutral</td>\n",
              "      <td>positive</td>\n",
              "    </tr>\n",
              "  </tbody>\n",
              "</table>\n",
              "<p>464 rows × 3 columns</p>\n",
              "</div>"
            ],
            "text/plain": [
              "                                                   news prediction      true\n",
              "0     @southwestair Great job celebrating #MardiGras...   negative  positive\n",
              "1     @southwestair thanks for taking it up a notch!...   negative  positive\n",
              "3     @united Thank you for your offer! All sorted o...    neutral  positive\n",
              "4     @JetBlue wondering if it's possible for my col...   negative   neutral\n",
              "7     @JetBlue, flights 1970, 1366, and 1552 will fl...   negative   neutral\n",
              "...                                                 ...        ...       ...\n",
              "1303  @united there is a sector whereby it says $0 i...   negative   neutral\n",
              "1307  @JetBlue have a cpap machine for sleep apnea. ...   negative   neutral\n",
              "1308  @united or you'll Cancelled Flight my flight l...    neutral  negative\n",
              "1312  @AmericanAir well we cleared customs in AUH. I...   negative   neutral\n",
              "1317                         @SouthwestAir thank you :)    neutral  positive\n",
              "\n",
              "[464 rows x 3 columns]"
            ]
          },
          "metadata": {
            "tags": []
          },
          "execution_count": 102
        }
      ]
    },
    {
      "cell_type": "markdown",
      "metadata": {
        "id": "gd-axO0F5mcM"
      },
      "source": [
        "# **Semantics**"
      ]
    },
    {
      "cell_type": "code",
      "metadata": {
        "id": "_BhXCSO3YeQz"
      },
      "source": [
        "def processTextSemantics(text, lemma=True, gram=1, rmStop=True):\n",
        "    text = re.sub(r'(https|http)?:\\/\\/(\\w|\\.|\\/|\\?|\\=|\\&|\\%)*\\b|@\\w+|', '', text, flags=re.MULTILINE)\n",
        "    token = word_tokenize(text)\n",
        "    whitelist = [\"n't\", \"not\", \"no\"]\n",
        "    synonyms = []\n",
        "    stoplist = stopwordEn if rmStop else []\n",
        "    new_tokens = []\n",
        "    for i in token:\n",
        "        i = i.lower()\n",
        "        if i.isalpha() and (i not in stoplist or i in whitelist):\n",
        "            new_tokens.append(i)\n",
        "            for syn in wordnet.synsets(i):\n",
        "                for l in syn.lemmas():\n",
        "                    if l.name not in new_tokens:\n",
        "                        new_tokens.append(l.name())\n",
        "    del token\n",
        "\n",
        "    return new_tokens"
      ],
      "execution_count": null,
      "outputs": []
    },
    {
      "cell_type": "code",
      "metadata": {
        "id": "9vz_dobetuvX"
      },
      "source": [
        "def processTextSemantics2(text, lemma=True, gram=1, rmStop=True):\n",
        "    text = re.sub(r'(https|http)?:\\/\\/(\\w|\\.|\\/|\\?|\\=|\\&|\\%)*\\b|@\\w+|', '', text, flags=re.MULTILINE)\n",
        "    token = word_tokenize(text)\n",
        "    whitelist = [\"n't\", \"not\", \"no\"]      \n",
        "\n",
        "    stoplist = stopwordEn if rmStop else []\n",
        "    new_tokens = []\n",
        "    for i in token:\n",
        "        i = i.lower()\n",
        "        if i.isalpha() and (i not in stoplist or i in whitelist):\n",
        "            if lemma: i = lemmaWord(i)\n",
        "            new_tokens.append(i)\n",
        "    del token\n",
        "\n",
        "    return new_tokens"
      ],
      "execution_count": null,
      "outputs": []
    },
    {
      "cell_type": "code",
      "metadata": {
        "colab": {
          "base_uri": "https://localhost:8080/"
        },
        "id": "ItRGSVoZrXL7",
        "outputId": "d1cfa882-2782-40f5-c8d2-f02d3d180770"
      },
      "source": [
        "print(processTextSemantics2(x_dev[4]))\n",
        "processTextSemantics(x_dev[4])"
      ],
      "execution_count": null,
      "outputs": [
        {
          "output_type": "stream",
          "text": [
            "['wonder', 'possible', 'colleague', 'get', 'earlier', 'flight', 'lax', 'gt', 'jfk', 'tomorrow', 'help']\n"
          ],
          "name": "stdout"
        },
        {
          "output_type": "execute_result",
          "data": {
            "text/plain": [
              "['wondering',\n",
              " 'wonder',\n",
              " 'inquire',\n",
              " 'enquire',\n",
              " 'wonder',\n",
              " 'question',\n",
              " 'wonder',\n",
              " 'marvel',\n",
              " 'inquisitive',\n",
              " 'speculative',\n",
              " 'questioning',\n",
              " 'wondering',\n",
              " 'possible',\n",
              " 'possible',\n",
              " 'possible',\n",
              " 'possible',\n",
              " 'potential',\n",
              " 'possible',\n",
              " 'colleague',\n",
              " 'colleague',\n",
              " 'co-worker',\n",
              " 'fellow_worker',\n",
              " 'workfellow',\n",
              " 'colleague',\n",
              " 'confrere',\n",
              " 'fellow',\n",
              " 'get',\n",
              " 'get',\n",
              " 'get',\n",
              " 'acquire',\n",
              " 'become',\n",
              " 'go',\n",
              " 'get',\n",
              " 'get',\n",
              " 'let',\n",
              " 'have',\n",
              " 'receive',\n",
              " 'get',\n",
              " 'find',\n",
              " 'obtain',\n",
              " 'incur',\n",
              " 'arrive',\n",
              " 'get',\n",
              " 'come',\n",
              " 'bring',\n",
              " 'get',\n",
              " 'convey',\n",
              " 'fetch',\n",
              " 'experience',\n",
              " 'receive',\n",
              " 'have',\n",
              " 'get',\n",
              " 'pay_back',\n",
              " 'pay_off',\n",
              " 'get',\n",
              " 'fix',\n",
              " 'have',\n",
              " 'get',\n",
              " 'make',\n",
              " 'induce',\n",
              " 'stimulate',\n",
              " 'cause',\n",
              " 'have',\n",
              " 'get',\n",
              " 'make',\n",
              " 'get',\n",
              " 'catch',\n",
              " 'capture',\n",
              " 'grow',\n",
              " 'develop',\n",
              " 'produce',\n",
              " 'get',\n",
              " 'acquire',\n",
              " 'contract',\n",
              " 'take',\n",
              " 'get',\n",
              " 'get',\n",
              " 'make',\n",
              " 'get',\n",
              " 'drive',\n",
              " 'get',\n",
              " 'aim',\n",
              " 'catch',\n",
              " 'get',\n",
              " 'catch',\n",
              " 'arrest',\n",
              " 'get',\n",
              " 'get',\n",
              " 'catch',\n",
              " 'get',\n",
              " 'get',\n",
              " 'get',\n",
              " 'catch',\n",
              " 'get',\n",
              " 'catch',\n",
              " 'get',\n",
              " 'get',\n",
              " 'receive',\n",
              " 'scram',\n",
              " 'buzz_off',\n",
              " 'fuck_off',\n",
              " 'get',\n",
              " 'bugger_off',\n",
              " 'get',\n",
              " 'get',\n",
              " \"get_under_one's_skin\",\n",
              " 'get',\n",
              " 'catch',\n",
              " 'get',\n",
              " 'draw',\n",
              " 'get',\n",
              " 'get',\n",
              " 'perplex',\n",
              " 'vex',\n",
              " 'stick',\n",
              " 'get',\n",
              " 'puzzle',\n",
              " 'mystify',\n",
              " 'baffle',\n",
              " 'beat',\n",
              " 'pose',\n",
              " 'bewilder',\n",
              " 'flummox',\n",
              " 'stupefy',\n",
              " 'nonplus',\n",
              " 'gravel',\n",
              " 'amaze',\n",
              " 'dumbfound',\n",
              " 'get_down',\n",
              " 'begin',\n",
              " 'get',\n",
              " 'start_out',\n",
              " 'start',\n",
              " 'set_about',\n",
              " 'set_out',\n",
              " 'commence',\n",
              " 'suffer',\n",
              " 'sustain',\n",
              " 'have',\n",
              " 'get',\n",
              " 'beget',\n",
              " 'get',\n",
              " 'engender',\n",
              " 'father',\n",
              " 'mother',\n",
              " 'sire',\n",
              " 'generate',\n",
              " 'bring_forth',\n",
              " 'earlier',\n",
              " 'earlier',\n",
              " 'earliest',\n",
              " 'early',\n",
              " 'early',\n",
              " 'early',\n",
              " 'former',\n",
              " 'other',\n",
              " 'early',\n",
              " 'early',\n",
              " 'early',\n",
              " 'earlier',\n",
              " 'before',\n",
              " 'sooner',\n",
              " 'earlier',\n",
              " 'in_the_first_place',\n",
              " 'earlier',\n",
              " 'in_the_beginning',\n",
              " 'to_begin_with',\n",
              " 'originally',\n",
              " 'flight',\n",
              " 'flight',\n",
              " 'flight',\n",
              " 'flying',\n",
              " 'flight',\n",
              " 'flight_of_stairs',\n",
              " 'flight_of_steps',\n",
              " 'escape',\n",
              " 'flight',\n",
              " 'flight',\n",
              " 'flight',\n",
              " 'trajectory',\n",
              " 'flight',\n",
              " 'flight',\n",
              " 'flight',\n",
              " 'flight',\n",
              " 'flight',\n",
              " 'fledge',\n",
              " 'flight',\n",
              " 'lax',\n",
              " 'lax',\n",
              " 'slack',\n",
              " 'lax',\n",
              " 'lax',\n",
              " 'lax',\n",
              " 'loose',\n",
              " 'gt',\n",
              " 'jfk',\n",
              " 'Kennedy',\n",
              " 'Jack_Kennedy',\n",
              " 'John_Fitzgerald_Kennedy',\n",
              " 'JFK',\n",
              " 'President_Kennedy',\n",
              " 'President_John_F._Kennedy',\n",
              " 'tomorrow',\n",
              " 'tomorrow',\n",
              " 'tomorrow',\n",
              " 'tomorrow',\n",
              " 'help',\n",
              " 'aid',\n",
              " 'assist',\n",
              " 'assistance',\n",
              " 'help',\n",
              " 'assistant',\n",
              " 'helper',\n",
              " 'help',\n",
              " 'supporter',\n",
              " 'aid',\n",
              " 'assistance',\n",
              " 'help',\n",
              " 'avail',\n",
              " 'help',\n",
              " 'service',\n",
              " 'help',\n",
              " 'assist',\n",
              " 'aid',\n",
              " 'help',\n",
              " 'aid',\n",
              " 'help',\n",
              " 'facilitate',\n",
              " 'help_oneself',\n",
              " 'help',\n",
              " 'serve',\n",
              " 'help',\n",
              " 'help',\n",
              " 'avail',\n",
              " 'help',\n",
              " 'help']"
            ]
          },
          "metadata": {
            "tags": []
          },
          "execution_count": 120
        }
      ]
    },
    {
      "cell_type": "code",
      "metadata": {
        "id": "pHRvE8ThYeTk"
      },
      "source": [
        "text_clf_semantics = Pipeline([\n",
        "    # add your code about text processing           \n",
        "    ('vect', CountVectorizer(analyzer=processTextSemantics)), \n",
        "    # ('tfidf', TfidfTransformer(use_idf=True)),\n",
        "\n",
        "    # change your classifier here, search: sklearn logistic regression example  \n",
        "    ('clf', LogisticRegression()) \n",
        "])"
      ],
      "execution_count": null,
      "outputs": []
    },
    {
      "cell_type": "code",
      "metadata": {
        "colab": {
          "base_uri": "https://localhost:8080/"
        },
        "id": "u1aAJfdgYeWh",
        "outputId": "c4970d2f-0751-4e6b-c8b7-a46f7e6d74d9"
      },
      "source": [
        "text_clf_semantics.fit(x_train, y_train)"
      ],
      "execution_count": null,
      "outputs": [
        {
          "output_type": "stream",
          "text": [
            "/usr/local/lib/python3.7/dist-packages/sklearn/linear_model/_logistic.py:940: ConvergenceWarning: lbfgs failed to converge (status=1):\n",
            "STOP: TOTAL NO. of ITERATIONS REACHED LIMIT.\n",
            "\n",
            "Increase the number of iterations (max_iter) or scale the data as shown in:\n",
            "    https://scikit-learn.org/stable/modules/preprocessing.html\n",
            "Please also refer to the documentation for alternative solver options:\n",
            "    https://scikit-learn.org/stable/modules/linear_model.html#logistic-regression\n",
            "  extra_warning_msg=_LOGISTIC_SOLVER_CONVERGENCE_MSG)\n"
          ],
          "name": "stderr"
        },
        {
          "output_type": "execute_result",
          "data": {
            "text/plain": [
              "Pipeline(memory=None,\n",
              "         steps=[('vect',\n",
              "                 CountVectorizer(analyzer=<function processTextSemantics at 0x7f4bed98e830>,\n",
              "                                 binary=False, decode_error='strict',\n",
              "                                 dtype=<class 'numpy.int64'>, encoding='utf-8',\n",
              "                                 input='content', lowercase=True, max_df=1.0,\n",
              "                                 max_features=None, min_df=1,\n",
              "                                 ngram_range=(1, 1), preprocessor=None,\n",
              "                                 stop_words=None, strip_accents=None,\n",
              "                                 token_pattern='(?u)\\\\b\\\\w\\\\w+\\\\b',\n",
              "                                 tokenizer=None, vocabulary=None)),\n",
              "                ('clf',\n",
              "                 LogisticRegression(C=1.0, class_weight=None, dual=False,\n",
              "                                    fit_intercept=True, intercept_scaling=1,\n",
              "                                    l1_ratio=None, max_iter=100,\n",
              "                                    multi_class='auto', n_jobs=None,\n",
              "                                    penalty='l2', random_state=None,\n",
              "                                    solver='lbfgs', tol=0.0001, verbose=0,\n",
              "                                    warm_start=False))],\n",
              "         verbose=False)"
            ]
          },
          "metadata": {
            "tags": []
          },
          "execution_count": 131
        }
      ]
    },
    {
      "cell_type": "code",
      "metadata": {
        "colab": {
          "base_uri": "https://localhost:8080/"
        },
        "id": "F21eGdA1MuLy",
        "outputId": "218230f3-5ef0-4048-873f-7a7a83f18820"
      },
      "source": [
        "predicted_semantics = text_clf_semantics.predict(x_dev)\n",
        "predicted_semantics"
      ],
      "execution_count": null,
      "outputs": [
        {
          "output_type": "execute_result",
          "data": {
            "text/plain": [
              "array(['positive', 'positive', 'negative', ..., 'negative', 'negative',\n",
              "       'positive'], dtype=object)"
            ]
          },
          "metadata": {
            "tags": []
          },
          "execution_count": 132
        }
      ]
    },
    {
      "cell_type": "code",
      "metadata": {
        "id": "CLZm1YCopkSq",
        "colab": {
          "base_uri": "https://localhost:8080/",
          "height": 329
        },
        "outputId": "6b01d020-4375-45f8-cff6-cb080df12b86"
      },
      "source": [
        "# To evaluate your prediction on dev set\n",
        "from sklearn import metrics\n",
        "semanticsAccuracy = metrics.accuracy_score(y_dev, predicted_semantics)\n",
        "semanticsf1 = metrics.f1_score(y_dev, predicted_semantics, average = None)\n",
        "semanticsRecall = metrics.recall_score(y_dev, predicted_semantics, average = None)\n",
        "semanticsPercision = metrics.precision_score(y_dev, predicted_semantics, average = None)\n",
        "print(\"Accuracy:\", semanticsAccuracy)\n",
        "\n",
        "print(metrics.classification_report(y_dev, predicted_semantics, target_names=target_names))\n",
        "\n",
        "# confusion class\n",
        "pd.DataFrame(metrics.confusion_matrix(y_dev, predicted_semantics), columns=target_names, index=target_names)"
      ],
      "execution_count": null,
      "outputs": [
        {
          "output_type": "stream",
          "text": [
            "Accuracy: 0.7625189681335357\n",
            "              precision    recall  f1-score   support\n",
            "\n",
            "    negative       0.83      0.86      0.85       826\n",
            "     neutral       0.57      0.55      0.56       279\n",
            "    positive       0.72      0.65      0.68       213\n",
            "\n",
            "    accuracy                           0.76      1318\n",
            "   macro avg       0.71      0.69      0.70      1318\n",
            "weighted avg       0.76      0.76      0.76      1318\n",
            "\n"
          ],
          "name": "stdout"
        },
        {
          "output_type": "execute_result",
          "data": {
            "text/html": [
              "<div>\n",
              "<style scoped>\n",
              "    .dataframe tbody tr th:only-of-type {\n",
              "        vertical-align: middle;\n",
              "    }\n",
              "\n",
              "    .dataframe tbody tr th {\n",
              "        vertical-align: top;\n",
              "    }\n",
              "\n",
              "    .dataframe thead th {\n",
              "        text-align: right;\n",
              "    }\n",
              "</style>\n",
              "<table border=\"1\" class=\"dataframe\">\n",
              "  <thead>\n",
              "    <tr style=\"text-align: right;\">\n",
              "      <th></th>\n",
              "      <th>negative</th>\n",
              "      <th>neutral</th>\n",
              "      <th>positive</th>\n",
              "    </tr>\n",
              "  </thead>\n",
              "  <tbody>\n",
              "    <tr>\n",
              "      <th>negative</th>\n",
              "      <td>713</td>\n",
              "      <td>83</td>\n",
              "      <td>30</td>\n",
              "    </tr>\n",
              "    <tr>\n",
              "      <th>neutral</th>\n",
              "      <td>102</td>\n",
              "      <td>154</td>\n",
              "      <td>23</td>\n",
              "    </tr>\n",
              "    <tr>\n",
              "      <th>positive</th>\n",
              "      <td>42</td>\n",
              "      <td>33</td>\n",
              "      <td>138</td>\n",
              "    </tr>\n",
              "  </tbody>\n",
              "</table>\n",
              "</div>"
            ],
            "text/plain": [
              "          negative  neutral  positive\n",
              "negative       713       83        30\n",
              "neutral        102      154        23\n",
              "positive        42       33       138"
            ]
          },
          "metadata": {
            "tags": []
          },
          "execution_count": 133
        }
      ]
    },
    {
      "cell_type": "code",
      "metadata": {
        "id": "SrW1_-mgpkXc",
        "colab": {
          "base_uri": "https://localhost:8080/",
          "height": 419
        },
        "outputId": "9bc00b74-b131-4d39-983d-6f14bd34b20b"
      },
      "source": [
        "df_pred_sematics = pd.DataFrame({'news':x_dev, 'prediction':predicted_semantics, 'true':y_dev})\n",
        "df_pred_sematics[df_pred_sematics['true'] != df_pred_sematics['prediction']]"
      ],
      "execution_count": null,
      "outputs": [
        {
          "output_type": "execute_result",
          "data": {
            "text/html": [
              "<div>\n",
              "<style scoped>\n",
              "    .dataframe tbody tr th:only-of-type {\n",
              "        vertical-align: middle;\n",
              "    }\n",
              "\n",
              "    .dataframe tbody tr th {\n",
              "        vertical-align: top;\n",
              "    }\n",
              "\n",
              "    .dataframe thead th {\n",
              "        text-align: right;\n",
              "    }\n",
              "</style>\n",
              "<table border=\"1\" class=\"dataframe\">\n",
              "  <thead>\n",
              "    <tr style=\"text-align: right;\">\n",
              "      <th></th>\n",
              "      <th>news</th>\n",
              "      <th>prediction</th>\n",
              "      <th>true</th>\n",
              "    </tr>\n",
              "  </thead>\n",
              "  <tbody>\n",
              "    <tr>\n",
              "      <th>7</th>\n",
              "      <td>@JetBlue, flights 1970, 1366, and 1552 will fl...</td>\n",
              "      <td>negative</td>\n",
              "      <td>neutral</td>\n",
              "    </tr>\n",
              "    <tr>\n",
              "      <th>12</th>\n",
              "      <td>@USAirways, I know you're dealing with the wea...</td>\n",
              "      <td>neutral</td>\n",
              "      <td>negative</td>\n",
              "    </tr>\n",
              "    <tr>\n",
              "      <th>14</th>\n",
              "      <td>@JetBlue we're home, you guys recovered, now w...</td>\n",
              "      <td>neutral</td>\n",
              "      <td>negative</td>\n",
              "    </tr>\n",
              "    <tr>\n",
              "      <th>15</th>\n",
              "      <td>@USAirways I better get a free flight</td>\n",
              "      <td>positive</td>\n",
              "      <td>negative</td>\n",
              "    </tr>\n",
              "    <tr>\n",
              "      <th>19</th>\n",
              "      <td>@SouthwestAir Why doesn't mean TSA PreCheck sh...</td>\n",
              "      <td>neutral</td>\n",
              "      <td>negative</td>\n",
              "    </tr>\n",
              "    <tr>\n",
              "      <th>...</th>\n",
              "      <td>...</td>\n",
              "      <td>...</td>\n",
              "      <td>...</td>\n",
              "    </tr>\n",
              "    <tr>\n",
              "      <th>1298</th>\n",
              "      <td>@united we finally just arrive to Bogota, good...</td>\n",
              "      <td>negative</td>\n",
              "      <td>neutral</td>\n",
              "    </tr>\n",
              "    <tr>\n",
              "      <th>1301</th>\n",
              "      <td>@JetBlue will I be compensated for delays or C...</td>\n",
              "      <td>negative</td>\n",
              "      <td>neutral</td>\n",
              "    </tr>\n",
              "    <tr>\n",
              "      <th>1303</th>\n",
              "      <td>@united there is a sector whereby it says $0 i...</td>\n",
              "      <td>negative</td>\n",
              "      <td>neutral</td>\n",
              "    </tr>\n",
              "    <tr>\n",
              "      <th>1307</th>\n",
              "      <td>@JetBlue have a cpap machine for sleep apnea. ...</td>\n",
              "      <td>negative</td>\n",
              "      <td>neutral</td>\n",
              "    </tr>\n",
              "    <tr>\n",
              "      <th>1311</th>\n",
              "      <td>@USAirways thank you, but it says the website ...</td>\n",
              "      <td>positive</td>\n",
              "      <td>neutral</td>\n",
              "    </tr>\n",
              "  </tbody>\n",
              "</table>\n",
              "<p>313 rows × 3 columns</p>\n",
              "</div>"
            ],
            "text/plain": [
              "                                                   news prediction      true\n",
              "7     @JetBlue, flights 1970, 1366, and 1552 will fl...   negative   neutral\n",
              "12    @USAirways, I know you're dealing with the wea...    neutral  negative\n",
              "14    @JetBlue we're home, you guys recovered, now w...    neutral  negative\n",
              "15                @USAirways I better get a free flight   positive  negative\n",
              "19    @SouthwestAir Why doesn't mean TSA PreCheck sh...    neutral  negative\n",
              "...                                                 ...        ...       ...\n",
              "1298  @united we finally just arrive to Bogota, good...   negative   neutral\n",
              "1301  @JetBlue will I be compensated for delays or C...   negative   neutral\n",
              "1303  @united there is a sector whereby it says $0 i...   negative   neutral\n",
              "1307  @JetBlue have a cpap machine for sleep apnea. ...   negative   neutral\n",
              "1311  @USAirways thank you, but it says the website ...   positive   neutral\n",
              "\n",
              "[313 rows x 3 columns]"
            ]
          },
          "metadata": {
            "tags": []
          },
          "execution_count": 134
        }
      ]
    },
    {
      "cell_type": "markdown",
      "metadata": {
        "id": "EUR3LscgYM1u"
      },
      "source": [
        "# **Bar chart for all processing levels**\n",
        "\n",
        "Bar charts represent\n",
        "\n",
        "  - F1 measures\n",
        "  - Accuracy measures\n",
        "  - Percision measures\n",
        "  - Recall measures\n",
        "\n"
      ]
    },
    {
      "cell_type": "code",
      "metadata": {
        "colab": {
          "base_uri": "https://localhost:8080/",
          "height": 312
        },
        "id": "a-IfkwKwZOM3",
        "outputId": "4cd1fab3-1737-40e1-f898-3097e65780ff"
      },
      "source": [
        "f1s = [morphologyf1, lexiconf1, syntaxf1, semanticsf1]\n",
        "model_names = ['morphology',  'lexicon', 'syntax', 'semantics']\n",
        "for i in range(len(model_names)):\n",
        "    f1 = f1s[i]\n",
        "    model_name = model_names[i]\n",
        "    plt.bar(model_name, f1)\n",
        "    \n",
        "plt.xlabel('Model names')\n",
        "plt.ylabel('F1 score')\n",
        "plt.title('F1 score for each model')"
      ],
      "execution_count": null,
      "outputs": [
        {
          "output_type": "execute_result",
          "data": {
            "text/plain": [
              "Text(0.5, 1.0, 'F1 score for each model')"
            ]
          },
          "metadata": {
            "tags": []
          },
          "execution_count": 135
        },
        {
          "output_type": "display_data",
          "data": {
            "image/png": "[encoded data removed]",
            "text/plain": [
              "<Figure size 432x288 with 1 Axes>"
            ]
          },
          "metadata": {
            "tags": [],
            "needs_background": "light"
          }
        }
      ]
    },
    {
      "cell_type": "code",
      "metadata": {
        "id": "RoQacqrWZOPa",
        "colab": {
          "base_uri": "https://localhost:8080/",
          "height": 312
        },
        "outputId": "f1de04ea-a5a3-43e6-df99-22e7a97b1a00"
      },
      "source": [
        "Accs = [morphologyAccuracy, lexiconAccuracy, syntaxAccuracy, semanticsAccuracy]\n",
        "model_names = ['morphology',  'lexicon', 'syntax', 'semantics']\n",
        "for i in range(len(model_names)):\n",
        "    acc = Accs[i]\n",
        "    model_name = model_names[i]\n",
        "    plt.bar(model_name, acc)\n",
        "    \n",
        "plt.xlabel('Model names')\n",
        "plt.ylabel('Accuracy score')\n",
        "plt.title('Accuracy score for each model')"
      ],
      "execution_count": null,
      "outputs": [
        {
          "output_type": "execute_result",
          "data": {
            "text/plain": [
              "Text(0.5, 1.0, 'Accuracy score for each model')"
            ]
          },
          "metadata": {
            "tags": []
          },
          "execution_count": 136
        },
        {
          "output_type": "display_data",
          "data": {
            "image/png": "[encoded data removed]",
            "text/plain": [
              "<Figure size 432x288 with 1 Axes>"
            ]
          },
          "metadata": {
            "tags": [],
            "needs_background": "light"
          }
        }
      ]
    },
    {
      "cell_type": "code",
      "metadata": {
        "id": "ovMcZPnJZOST",
        "colab": {
          "base_uri": "https://localhost:8080/",
          "height": 312
        },
        "outputId": "5124eb5a-c455-445e-93da-f77078e9f21c"
      },
      "source": [
        "Pers = [morphologyPercision, lexiconPercision, syntaxPercision, semanticsPercision]\n",
        "model_names = ['morphology',  'lexicon', 'syntax', 'semantics']\n",
        "for i in range(len(model_names)):\n",
        "    per = Pers[i]\n",
        "    model_name = model_names[i]\n",
        "    plt.bar(model_name, per)\n",
        "    \n",
        "plt.xlabel('Model names')\n",
        "plt.ylabel('Percision score')\n",
        "plt.title('Percision score for each model')"
      ],
      "execution_count": null,
      "outputs": [
        {
          "output_type": "execute_result",
          "data": {
            "text/plain": [
              "Text(0.5, 1.0, 'Percision score for each model')"
            ]
          },
          "metadata": {
            "tags": []
          },
          "execution_count": 137
        },
        {
          "output_type": "display_data",
          "data": {
            "image/png": "[encoded data removed]",
            "text/plain": [
              "<Figure size 432x288 with 1 Axes>"
            ]
          },
          "metadata": {
            "tags": [],
            "needs_background": "light"
          }
        }
      ]
    },
    {
      "cell_type": "code",
      "metadata": {
        "colab": {
          "base_uri": "https://localhost:8080/",
          "height": 312
        },
        "id": "-4mSxC5V5tlc",
        "outputId": "20c2cd1b-403e-4909-81ab-6dc48178bc52"
      },
      "source": [
        "Recalls = [morphologyRecall, lexiconRecall, syntaxRecall, semanticsRecall]\n",
        "model_names = ['morphology',  'lexicon', 'syntax', 'semantics']\n",
        "for i in range(len(model_names)):\n",
        "    rec = Recalls[i]\n",
        "    model_name = model_names[i]\n",
        "    plt.bar(model_name, rec)\n",
        "    \n",
        "plt.xlabel('Model names')\n",
        "plt.ylabel('Recall score')\n",
        "plt.title('Recall score for each model')"
      ],
      "execution_count": null,
      "outputs": [
        {
          "output_type": "execute_result",
          "data": {
            "text/plain": [
              "Text(0.5, 1.0, 'Recall score for each model')"
            ]
          },
          "metadata": {
            "tags": []
          },
          "execution_count": 138
        },
        {
          "output_type": "display_data",
          "data": {
            "image/png": "[encoded data removed]",
            "text/plain": [
              "<Figure size 432x288 with 1 Axes>"
            ]
          },
          "metadata": {
            "tags": [],
            "needs_background": "light"
          }
        }
      ]
    },
    {
      "cell_type": "markdown",
      "metadata": {
        "id": "1LdjUQ9MsbFc"
      },
      "source": [
        "# **References and citations**\n",
        "\n",
        "Practical 3, which feature is helpful for female name classification. https://www.nltk.org/book/ch06.html\n",
        "\n",
        "research paper: https://github.com/yoonkim/CNN_sentence\n",
        "\n",
        "https://scikit-learn.org/stable/tutorial/text_analytics/working_with_text_data.html \n",
        "\n",
        "https://www.nltk.org/book/ch06.html \n",
        "\n",
        "Other online resources: \n",
        "\n",
        "https://towardsdatascience.com/setting-up-text-preprocessing-pipeline-using-scikit-learn-and-spacy-e09b9b76758f \n",
        " \n",
        "sentiment analysis scikit learn https://scikit-learn.org/stable/tutorial/text_analytics/working_with_text_data.html\n",
        "\n",
        "scikit learn or nltk + NLP techniques https://towardsdatascience.com/machine-learning-nlp-text-classification-using-scikit-learn-python-and-nltk-c52b92a7c73a\n",
        "\n",
        "scikit learn logistic regression https://scikit-learn.org/stable/modules/generated/sklearn.linear_model.LogisticRegression.html"
      ]
    }
  ]
}